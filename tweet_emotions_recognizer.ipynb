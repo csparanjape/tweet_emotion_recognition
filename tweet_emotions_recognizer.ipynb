{
 "cells": [
  {
   "cell_type": "markdown",
   "id": "ff5a0dbc",
   "metadata": {},
   "source": [
    "# Tweet emotion Recognition"
   ]
  },
  {
   "cell_type": "code",
   "execution_count": 1,
   "id": "b2898d46",
   "metadata": {},
   "outputs": [],
   "source": [
    "import pandas as pd  # Data analysis library\n",
    "import pickle\n",
    "import numpy as np\n",
    "#import nlp\n",
    "# Plotting libraries\n",
    "import matplotlib.pyplot as plt\n",
    "import seaborn as sns\n",
    "\n",
    "from sklearn.metrics import classification_report\n",
    "\n",
    "import re\n",
    "import string\n",
    "\n",
    "from nltk.corpus import stopwords\n",
    "from nltk.stem import SnowballStemmer\n",
    "from nltk.stem import WordNetLemmatizer\n",
    "\n",
    "from sklearn.model_selection import train_test_split\n",
    "\n",
    "%matplotlib inline\n",
    "fig_params = {\n",
    "    'legend.fontsize': 18,\n",
    "    'axes.labelsize': 18,\n",
    "    'axes.titlesize': 20,\n",
    "    'xtick.labelsize': 16,\n",
    "    'ytick.labelsize': 16,\n",
    "    'axes.facecolor': '#D9DDD1'\n",
    "}\n",
    "plt.rcParams.update(fig_params)"
   ]
  },
  {
   "cell_type": "code",
   "execution_count": 2,
   "id": "5d243572",
   "metadata": {
    "scrolled": true
   },
   "outputs": [],
   "source": [
    "#dataset=nlp.load_dataset('emotion')"
   ]
  },
  {
   "cell_type": "code",
   "execution_count": 3,
   "id": "7650af49",
   "metadata": {},
   "outputs": [],
   "source": [
    "#dataset"
   ]
  },
  {
   "cell_type": "code",
   "execution_count": 4,
   "id": "5a6a21b8",
   "metadata": {},
   "outputs": [],
   "source": [
    "df = pd.read_pickle('./data/merged_training.pkl')"
   ]
  },
  {
   "cell_type": "code",
   "execution_count": 5,
   "id": "37dd613d",
   "metadata": {},
   "outputs": [
    {
     "data": {
      "text/html": [
       "<div>\n",
       "<style scoped>\n",
       "    .dataframe tbody tr th:only-of-type {\n",
       "        vertical-align: middle;\n",
       "    }\n",
       "\n",
       "    .dataframe tbody tr th {\n",
       "        vertical-align: top;\n",
       "    }\n",
       "\n",
       "    .dataframe thead th {\n",
       "        text-align: right;\n",
       "    }\n",
       "</style>\n",
       "<table border=\"1\" class=\"dataframe\">\n",
       "  <thead>\n",
       "    <tr style=\"text-align: right;\">\n",
       "      <th></th>\n",
       "      <th>text</th>\n",
       "      <th>emotions</th>\n",
       "    </tr>\n",
       "  </thead>\n",
       "  <tbody>\n",
       "    <tr>\n",
       "      <th>27383</th>\n",
       "      <td>i feel awful about it too because it s my job ...</td>\n",
       "      <td>sadness</td>\n",
       "    </tr>\n",
       "    <tr>\n",
       "      <th>110083</th>\n",
       "      <td>im alone i feel awful</td>\n",
       "      <td>sadness</td>\n",
       "    </tr>\n",
       "    <tr>\n",
       "      <th>140764</th>\n",
       "      <td>ive probably mentioned this before but i reall...</td>\n",
       "      <td>joy</td>\n",
       "    </tr>\n",
       "    <tr>\n",
       "      <th>100071</th>\n",
       "      <td>i was feeling a little low few days back</td>\n",
       "      <td>sadness</td>\n",
       "    </tr>\n",
       "    <tr>\n",
       "      <th>2837</th>\n",
       "      <td>i beleive that i am much more sensitive to oth...</td>\n",
       "      <td>love</td>\n",
       "    </tr>\n",
       "  </tbody>\n",
       "</table>\n",
       "</div>"
      ],
      "text/plain": [
       "                                                     text emotions\n",
       "27383   i feel awful about it too because it s my job ...  sadness\n",
       "110083                              im alone i feel awful  sadness\n",
       "140764  ive probably mentioned this before but i reall...      joy\n",
       "100071           i was feeling a little low few days back  sadness\n",
       "2837    i beleive that i am much more sensitive to oth...     love"
      ]
     },
     "execution_count": 5,
     "metadata": {},
     "output_type": "execute_result"
    }
   ],
   "source": [
    "df.head()"
   ]
  },
  {
   "cell_type": "code",
   "execution_count": 6,
   "id": "30809e4e",
   "metadata": {},
   "outputs": [
    {
     "name": "stdout",
     "output_type": "stream",
     "text": [
      "<class 'pandas.core.frame.DataFrame'>\n",
      "Int64Index: 416809 entries, 27383 to 64703\n",
      "Data columns (total 2 columns):\n",
      " #   Column    Non-Null Count   Dtype \n",
      "---  ------    --------------   ----- \n",
      " 0   text      416809 non-null  object\n",
      " 1   emotions  416809 non-null  object\n",
      "dtypes: object(2)\n",
      "memory usage: 9.5+ MB\n"
     ]
    }
   ],
   "source": [
    "df.info()"
   ]
  },
  {
   "cell_type": "code",
   "execution_count": 7,
   "id": "9d749a5a",
   "metadata": {},
   "outputs": [
    {
     "data": {
      "text/plain": [
       "array(['sadness', 'joy', 'love', 'anger', 'fear', 'surprise'],\n",
       "      dtype=object)"
      ]
     },
     "execution_count": 7,
     "metadata": {},
     "output_type": "execute_result"
    }
   ],
   "source": [
    "df['emotions'].unique()"
   ]
  },
  {
   "cell_type": "code",
   "execution_count": 8,
   "id": "6693b7c7",
   "metadata": {},
   "outputs": [
    {
     "data": {
      "text/plain": [
       "<AxesSubplot:>"
      ]
     },
     "execution_count": 8,
     "metadata": {},
     "output_type": "execute_result"
    },
    {
     "data": {
      "image/png": "[encoded data removed]",
      "text/plain": [
       "<Figure size 432x288 with 1 Axes>"
      ]
     },
     "metadata": {
      "needs_background": "light"
     },
     "output_type": "display_data"
    }
   ],
   "source": [
    "df['emotions'].value_counts().plot(kind='bar')"
   ]
  },
  {
   "cell_type": "markdown",
   "id": "1f4cea03",
   "metadata": {},
   "source": [
    "Let's create test,train and validation datasets from the above dataset."
   ]
  },
  {
   "cell_type": "code",
   "execution_count": 9,
   "id": "87221ef4",
   "metadata": {},
   "outputs": [],
   "source": [
    "X = df['text']\n",
    "y = df['emotions']"
   ]
  },
  {
   "cell_type": "code",
   "execution_count": 10,
   "id": "4e23cea1",
   "metadata": {
    "scrolled": true
   },
   "outputs": [],
   "source": [
    "tweet_tmp, tweet_ts, y_tmp, y_ts = train_test_split(X,\n",
    "                                                    y,\n",
    "                                                    test_size=0.2,\n",
    "                                                    random_state=42)\n",
    "tweet_tr, tweet_cv, y_tr, y_cv = train_test_split(tweet_tmp,\n",
    "                                                  y_tmp,\n",
    "                                                  test_size=0.25,\n",
    "                                                  random_state=42)"
   ]
  },
  {
   "cell_type": "code",
   "execution_count": 11,
   "id": "04c73917",
   "metadata": {},
   "outputs": [],
   "source": [
    "df_train = pd.concat([tweet_tr, y_tr], axis=1)\n",
    "df_val = pd.concat([tweet_cv, y_cv], axis=1)\n",
    "df_test = pd.concat([tweet_ts, y_ts], axis=1)"
   ]
  },
  {
   "cell_type": "code",
   "execution_count": 35,
   "id": "4efc6259",
   "metadata": {},
   "outputs": [
    {
     "data": {
      "text/plain": [
       "(83362, 3)"
      ]
     },
     "execution_count": 35,
     "metadata": {},
     "output_type": "execute_result"
    }
   ],
   "source": [
    "df_val.shape"
   ]
  },
  {
   "cell_type": "code",
   "execution_count": 12,
   "id": "b0bce9de",
   "metadata": {},
   "outputs": [],
   "source": [
    "pickle.dump(df_train, open('./data/train.pkl', 'wb'))\n",
    "pickle.dump(df_test, open('./data/test.pkl', 'wb'))\n",
    "pickle.dump(df_val, open('./data/validation.pkl', 'wb'))"
   ]
  },
  {
   "cell_type": "markdown",
   "id": "177296cc",
   "metadata": {},
   "source": [
    "## Tokenization"
   ]
  },
  {
   "cell_type": "code",
   "execution_count": 13,
   "id": "838957d1",
   "metadata": {},
   "outputs": [],
   "source": [
    "def clean_text(text):\n",
    "    text = text.lower()\n",
    "    text = re.sub('[%s]' % re.escape(string.punctuation), '', text)\n",
    "    text = re.sub(pattern='\\n', repl=' ', string=text)\n",
    "    text = re.sub(pattern='\\t', repl=' ', string=text)\n",
    "    text = re.sub('[0-9]', '', text)\n",
    "    return text\n",
    "\n",
    "\n",
    "def remove_stopwords_stemming(stemmer, text, need_stemming=True):\n",
    "    if bool(need_stemming) == True:\n",
    "        text_ret = [\n",
    "            stemmer.stem(word.lower()) for word in text.split()\n",
    "            if word.lower() not in stopwords.words('english')\n",
    "        ]\n",
    "    else:\n",
    "        text_ret = [\n",
    "            word.lower() for word in text.split()\n",
    "            if word.lower() not in stopwords.words('english')\n",
    "        ]\n",
    "    return ' '.join(text_ret)\n",
    "\n",
    "\n",
    "def stemming(stemmer, text):\n",
    "    list = [stemmer.stem(word) for word in text.split()]\n",
    "    return ' '.join(list)\n",
    "\n",
    "\n",
    "def text_processing(text):\n",
    "    text = clean_text(text)\n",
    "    text = remove_stopwords_stemming(stemmer, text, need_stemming=True)\n",
    "    #text=stemming(stemmer,text)\n",
    "    return text"
   ]
  },
  {
   "cell_type": "code",
   "execution_count": 14,
   "id": "704fa776",
   "metadata": {},
   "outputs": [],
   "source": [
    "stemmer = SnowballStemmer(language='english')"
   ]
  },
  {
   "cell_type": "code",
   "execution_count": 15,
   "id": "1519c29a",
   "metadata": {},
   "outputs": [],
   "source": [
    "df_train['processed'] = df_train['text'].apply(lambda x: text_processing(x))\n",
    "df_val['processed'] = df_val['text'].apply(lambda x: text_processing(x))\n",
    "df_test['processed'] = df_test['text'].apply(lambda x: text_processing(x))"
   ]
  },
  {
   "cell_type": "code",
   "execution_count": 16,
   "id": "81d73de4",
   "metadata": {
    "scrolled": true
   },
   "outputs": [
    {
     "data": {
      "text/html": [
       "<div>\n",
       "<style scoped>\n",
       "    .dataframe tbody tr th:only-of-type {\n",
       "        vertical-align: middle;\n",
       "    }\n",
       "\n",
       "    .dataframe tbody tr th {\n",
       "        vertical-align: top;\n",
       "    }\n",
       "\n",
       "    .dataframe thead th {\n",
       "        text-align: right;\n",
       "    }\n",
       "</style>\n",
       "<table border=\"1\" class=\"dataframe\">\n",
       "  <thead>\n",
       "    <tr style=\"text-align: right;\">\n",
       "      <th></th>\n",
       "      <th>text</th>\n",
       "      <th>emotions</th>\n",
       "      <th>processed</th>\n",
       "    </tr>\n",
       "  </thead>\n",
       "  <tbody>\n",
       "    <tr>\n",
       "      <th>count</th>\n",
       "      <td>83362</td>\n",
       "      <td>83362</td>\n",
       "      <td>83362</td>\n",
       "    </tr>\n",
       "    <tr>\n",
       "      <th>unique</th>\n",
       "      <td>82435</td>\n",
       "      <td>6</td>\n",
       "      <td>80872</td>\n",
       "    </tr>\n",
       "    <tr>\n",
       "      <th>top</th>\n",
       "      <td>i feel more adventurous willing to take risks ...</td>\n",
       "      <td>joy</td>\n",
       "      <td>feel accept</td>\n",
       "    </tr>\n",
       "    <tr>\n",
       "      <th>freq</th>\n",
       "      <td>3</td>\n",
       "      <td>28247</td>\n",
       "      <td>20</td>\n",
       "    </tr>\n",
       "  </tbody>\n",
       "</table>\n",
       "</div>"
      ],
      "text/plain": [
       "                                                     text emotions  \\\n",
       "count                                               83362    83362   \n",
       "unique                                              82435        6   \n",
       "top     i feel more adventurous willing to take risks ...      joy   \n",
       "freq                                                    3    28247   \n",
       "\n",
       "          processed  \n",
       "count         83362  \n",
       "unique        80872  \n",
       "top     feel accept  \n",
       "freq             20  "
      ]
     },
     "execution_count": 16,
     "metadata": {},
     "output_type": "execute_result"
    }
   ],
   "source": [
    "df_test.describe()"
   ]
  },
  {
   "cell_type": "code",
   "execution_count": 17,
   "id": "fc306ed2",
   "metadata": {},
   "outputs": [],
   "source": [
    "df_train['length_text'] = df_train['text'].apply(lambda x: len(x.split()))\n",
    "df_train['length_processed'] = df_train['processed'].apply(\n",
    "    lambda x: len(x.split()))"
   ]
  },
  {
   "cell_type": "code",
   "execution_count": 18,
   "id": "13a2cde6",
   "metadata": {
    "scrolled": false
   },
   "outputs": [
    {
     "data": {
      "image/png": "[encoded data removed]",
      "text/plain": [
       "<Figure size 1008x288 with 2 Axes>"
      ]
     },
     "metadata": {
      "needs_background": "light"
     },
     "output_type": "display_data"
    }
   ],
   "source": [
    "fig, ax = plt.subplots(nrows=1, ncols=2, figsize=(14, 4))\n",
    "sns.histplot(ax=ax[0], data=df_train, x='length_text', hue='emotions', bins=40)\n",
    "sns.histplot(ax=ax[1],\n",
    "             data=df_train,\n",
    "             x='length_processed',\n",
    "             hue='emotions',\n",
    "             bins=40)\n",
    "plt.show()"
   ]
  },
  {
   "cell_type": "code",
   "execution_count": 19,
   "id": "df46a8fe",
   "metadata": {},
   "outputs": [
    {
     "name": "stderr",
     "output_type": "stream",
     "text": [
      "/home/chaitanya/anaconda3/lib/python3.7/site-packages/tensorflow/python/framework/dtypes.py:516: FutureWarning: Passing (type, 1) or '1type' as a synonym of type is deprecated; in a future version of numpy, it will be understood as (type, (1,)) / '(1,)type'.\n",
      "  _np_qint8 = np.dtype([(\"qint8\", np.int8, 1)])\n",
      "/home/chaitanya/anaconda3/lib/python3.7/site-packages/tensorflow/python/framework/dtypes.py:517: FutureWarning: Passing (type, 1) or '1type' as a synonym of type is deprecated; in a future version of numpy, it will be understood as (type, (1,)) / '(1,)type'.\n",
      "  _np_quint8 = np.dtype([(\"quint8\", np.uint8, 1)])\n",
      "/home/chaitanya/anaconda3/lib/python3.7/site-packages/tensorflow/python/framework/dtypes.py:518: FutureWarning: Passing (type, 1) or '1type' as a synonym of type is deprecated; in a future version of numpy, it will be understood as (type, (1,)) / '(1,)type'.\n",
      "  _np_qint16 = np.dtype([(\"qint16\", np.int16, 1)])\n",
      "/home/chaitanya/anaconda3/lib/python3.7/site-packages/tensorflow/python/framework/dtypes.py:519: FutureWarning: Passing (type, 1) or '1type' as a synonym of type is deprecated; in a future version of numpy, it will be understood as (type, (1,)) / '(1,)type'.\n",
      "  _np_quint16 = np.dtype([(\"quint16\", np.uint16, 1)])\n",
      "/home/chaitanya/anaconda3/lib/python3.7/site-packages/tensorflow/python/framework/dtypes.py:520: FutureWarning: Passing (type, 1) or '1type' as a synonym of type is deprecated; in a future version of numpy, it will be understood as (type, (1,)) / '(1,)type'.\n",
      "  _np_qint32 = np.dtype([(\"qint32\", np.int32, 1)])\n",
      "/home/chaitanya/anaconda3/lib/python3.7/site-packages/tensorflow/python/framework/dtypes.py:525: FutureWarning: Passing (type, 1) or '1type' as a synonym of type is deprecated; in a future version of numpy, it will be understood as (type, (1,)) / '(1,)type'.\n",
      "  np_resource = np.dtype([(\"resource\", np.ubyte, 1)])\n",
      "/home/chaitanya/anaconda3/lib/python3.7/site-packages/tensorboard/compat/tensorflow_stub/dtypes.py:541: FutureWarning: Passing (type, 1) or '1type' as a synonym of type is deprecated; in a future version of numpy, it will be understood as (type, (1,)) / '(1,)type'.\n",
      "  _np_qint8 = np.dtype([(\"qint8\", np.int8, 1)])\n",
      "/home/chaitanya/anaconda3/lib/python3.7/site-packages/tensorboard/compat/tensorflow_stub/dtypes.py:542: FutureWarning: Passing (type, 1) or '1type' as a synonym of type is deprecated; in a future version of numpy, it will be understood as (type, (1,)) / '(1,)type'.\n",
      "  _np_quint8 = np.dtype([(\"quint8\", np.uint8, 1)])\n",
      "/home/chaitanya/anaconda3/lib/python3.7/site-packages/tensorboard/compat/tensorflow_stub/dtypes.py:543: FutureWarning: Passing (type, 1) or '1type' as a synonym of type is deprecated; in a future version of numpy, it will be understood as (type, (1,)) / '(1,)type'.\n",
      "  _np_qint16 = np.dtype([(\"qint16\", np.int16, 1)])\n",
      "/home/chaitanya/anaconda3/lib/python3.7/site-packages/tensorboard/compat/tensorflow_stub/dtypes.py:544: FutureWarning: Passing (type, 1) or '1type' as a synonym of type is deprecated; in a future version of numpy, it will be understood as (type, (1,)) / '(1,)type'.\n",
      "  _np_quint16 = np.dtype([(\"quint16\", np.uint16, 1)])\n",
      "/home/chaitanya/anaconda3/lib/python3.7/site-packages/tensorboard/compat/tensorflow_stub/dtypes.py:545: FutureWarning: Passing (type, 1) or '1type' as a synonym of type is deprecated; in a future version of numpy, it will be understood as (type, (1,)) / '(1,)type'.\n",
      "  _np_qint32 = np.dtype([(\"qint32\", np.int32, 1)])\n",
      "/home/chaitanya/anaconda3/lib/python3.7/site-packages/tensorboard/compat/tensorflow_stub/dtypes.py:550: FutureWarning: Passing (type, 1) or '1type' as a synonym of type is deprecated; in a future version of numpy, it will be understood as (type, (1,)) / '(1,)type'.\n",
      "  np_resource = np.dtype([(\"resource\", np.ubyte, 1)])\n"
     ]
    }
   ],
   "source": [
    "from tensorflow.keras.preprocessing.text import Tokenizer\n",
    "from tensorflow.keras.preprocessing.sequence import pad_sequences"
   ]
  },
  {
   "cell_type": "code",
   "execution_count": 20,
   "id": "d22a593b",
   "metadata": {},
   "outputs": [],
   "source": [
    "tokenizer = Tokenizer(num_words=12000, oov_token='<UKN>')\n",
    "tokenizer.fit_on_texts(df_train['processed'])"
   ]
  },
  {
   "cell_type": "code",
   "execution_count": 21,
   "id": "334f2ab8",
   "metadata": {},
   "outputs": [],
   "source": [
    "def get_sequence(tokenizer, df, maxlen):\n",
    "    sequence = tokenizer.texts_to_sequences(df)\n",
    "    padded = pad_sequences(sequences=sequence,\n",
    "                           maxlen=maxlen,\n",
    "                           padding='post',\n",
    "                           truncating='post')\n",
    "    return padded"
   ]
  },
  {
   "cell_type": "code",
   "execution_count": 22,
   "id": "745473da",
   "metadata": {},
   "outputs": [],
   "source": [
    "maxlen = 30\n",
    "X_tr = np.array(get_sequence(tokenizer, df_train['processed'], maxlen))\n",
    "X_cv = np.array(get_sequence(tokenizer, df_val['processed'], maxlen))\n",
    "X_test = np.array(get_sequence(tokenizer, df_test['processed'], maxlen))"
   ]
  },
  {
   "cell_type": "code",
   "execution_count": 23,
   "id": "d3b309dc",
   "metadata": {},
   "outputs": [
    {
     "data": {
      "text/plain": [
       "(250085, 30)"
      ]
     },
     "execution_count": 23,
     "metadata": {},
     "output_type": "execute_result"
    }
   ],
   "source": [
    "X_tr.shape"
   ]
  },
  {
   "cell_type": "code",
   "execution_count": 24,
   "id": "0596d634",
   "metadata": {},
   "outputs": [],
   "source": [
    "from sklearn.preprocessing import LabelEncoder"
   ]
  },
  {
   "cell_type": "code",
   "execution_count": 25,
   "id": "860b2a91",
   "metadata": {},
   "outputs": [],
   "source": [
    "le = LabelEncoder()"
   ]
  },
  {
   "cell_type": "code",
   "execution_count": 26,
   "id": "04439245",
   "metadata": {},
   "outputs": [
    {
     "data": {
      "text/plain": [
       "LabelEncoder()"
      ]
     },
     "execution_count": 26,
     "metadata": {},
     "output_type": "execute_result"
    }
   ],
   "source": [
    "le.fit(df_train['emotions'])"
   ]
  },
  {
   "cell_type": "code",
   "execution_count": 27,
   "id": "6cf62e4d",
   "metadata": {},
   "outputs": [],
   "source": [
    "y_tr = le.transform(df_train['emotions'])\n",
    "y_cv = le.transform(df_val['emotions'])\n",
    "y_test=le.transform(df_test['emotions'])"
   ]
  },
  {
   "cell_type": "markdown",
   "id": "292fad20",
   "metadata": {},
   "source": [
    "## Creating a model"
   ]
  },
  {
   "cell_type": "code",
   "execution_count": 28,
   "id": "6fd5ed9f",
   "metadata": {},
   "outputs": [],
   "source": [
    "from tensorflow.keras.models import Sequential\n",
    "from tensorflow.keras.layers import Embedding, Dense, LSTM, Bidirectional, Dropout"
   ]
  },
  {
   "cell_type": "code",
   "execution_count": 29,
   "id": "5bf66cf8",
   "metadata": {},
   "outputs": [
    {
     "name": "stdout",
     "output_type": "stream",
     "text": [
      "WARNING:tensorflow:From /home/chaitanya/anaconda3/lib/python3.7/site-packages/tensorflow/python/keras/initializers.py:119: calling RandomUniform.__init__ (from tensorflow.python.ops.init_ops) with dtype is deprecated and will be removed in a future version.\n",
      "Instructions for updating:\n",
      "Call initializer instance with the dtype argument instead of passing it to the constructor\n",
      "WARNING:tensorflow:From /home/chaitanya/anaconda3/lib/python3.7/site-packages/tensorflow/python/ops/init_ops.py:1251: calling VarianceScaling.__init__ (from tensorflow.python.ops.init_ops) with dtype is deprecated and will be removed in a future version.\n",
      "Instructions for updating:\n",
      "Call initializer instance with the dtype argument instead of passing it to the constructor\n"
     ]
    }
   ],
   "source": [
    "model = Sequential()\n",
    "model.add(Embedding(input_dim=12000, output_dim=20, input_length=maxlen))\n",
    "model.add(LSTM(100))\n",
    "model.add(Dense(6, activation='softmax'))\n",
    "\n",
    "model.compile(loss='sparse_categorical_crossentropy',\n",
    "              optimizer='adam',\n",
    "              metrics=['accuracy'])"
   ]
  },
  {
   "cell_type": "code",
   "execution_count": 30,
   "id": "1419517f",
   "metadata": {},
   "outputs": [
    {
     "name": "stdout",
     "output_type": "stream",
     "text": [
      "Model: \"sequential\"\n",
      "_________________________________________________________________\n",
      "Layer (type)                 Output Shape              Param #   \n",
      "=================================================================\n",
      "embedding (Embedding)        (None, 30, 20)            240000    \n",
      "_________________________________________________________________\n",
      "lstm (LSTM)                  (None, 100)               48400     \n",
      "_________________________________________________________________\n",
      "dense (Dense)                (None, 6)                 606       \n",
      "=================================================================\n",
      "Total params: 289,006\n",
      "Trainable params: 289,006\n",
      "Non-trainable params: 0\n",
      "_________________________________________________________________\n"
     ]
    }
   ],
   "source": [
    "model.summary()"
   ]
  },
  {
   "cell_type": "code",
   "execution_count": 36,
   "id": "7c37e7a4",
   "metadata": {},
   "outputs": [
    {
     "name": "stdout",
     "output_type": "stream",
     "text": [
      "(250085, 30) (250085,)\n",
      "(83362, 30) (83362,)\n",
      "(83362, 30) (83362,)\n"
     ]
    }
   ],
   "source": [
    "print(X_tr.shape, y_tr.shape)\n",
    "print(X_cv.shape, y_cv.shape)\n",
    "print(X_test.shape, y_test.shape)"
   ]
  },
  {
   "cell_type": "code",
   "execution_count": 37,
   "id": "890448ad",
   "metadata": {},
   "outputs": [
    {
     "name": "stdout",
     "output_type": "stream",
     "text": [
      "Train on 250085 samples, validate on 83362 samples\n",
      "Epoch 1/10\n",
      "250085/250085 [==============================] - 198s 792us/sample - loss: 0.1478 - acc: 0.9251 - val_loss: 0.1585 - val_acc: 0.9188\n",
      "Epoch 2/10\n",
      "250085/250085 [==============================] - 198s 790us/sample - loss: 0.1361 - acc: 0.9283 - val_loss: 0.1503 - val_acc: 0.9203\n",
      "Epoch 3/10\n",
      "250085/250085 [==============================] - 199s 797us/sample - loss: 0.1277 - acc: 0.9306 - val_loss: 0.1560 - val_acc: 0.9181\n",
      "Epoch 4/10\n",
      "250085/250085 [==============================] - 186s 743us/sample - loss: 0.1207 - acc: 0.9332 - val_loss: 0.1580 - val_acc: 0.9161\n",
      "Epoch 5/10\n",
      "250085/250085 [==============================] - 178s 710us/sample - loss: 0.1149 - acc: 0.9356 - val_loss: 0.1624 - val_acc: 0.9173\n",
      "Epoch 6/10\n",
      "250085/250085 [==============================] - 181s 722us/sample - loss: 0.1099 - acc: 0.9376 - val_loss: 0.1684 - val_acc: 0.9152\n",
      "Epoch 7/10\n",
      "250085/250085 [==============================] - 180s 721us/sample - loss: 0.1052 - acc: 0.9396 - val_loss: 0.1799 - val_acc: 0.9153\n",
      "Epoch 8/10\n",
      "250085/250085 [==============================] - 180s 720us/sample - loss: 0.1014 - acc: 0.9414 - val_loss: 0.1918 - val_acc: 0.9127\n",
      "Epoch 9/10\n",
      "250085/250085 [==============================] - 180s 720us/sample - loss: 0.0979 - acc: 0.9425 - val_loss: 0.1959 - val_acc: 0.9126\n",
      "Epoch 10/10\n",
      "250085/250085 [==============================] - 238s 951us/sample - loss: 0.0952 - acc: 0.9435 - val_loss: 0.2069 - val_acc: 0.9075\n"
     ]
    },
    {
     "data": {
      "text/plain": [
       "<tensorflow.python.keras.callbacks.History at 0x7fce884c29d0>"
      ]
     },
     "execution_count": 37,
     "metadata": {},
     "output_type": "execute_result"
    }
   ],
   "source": [
    "model.fit(X_tr, y_tr, validation_data=(X_cv, y_cv), epochs=10, batch_size=64)"
   ]
  },
  {
   "cell_type": "code",
   "execution_count": 43,
   "id": "268cff60",
   "metadata": {
    "scrolled": true
   },
   "outputs": [
    {
     "data": {
      "text/plain": [
       "<AxesSubplot:>"
      ]
     },
     "execution_count": 43,
     "metadata": {},
     "output_type": "execute_result"
    },
    {
     "data": {
      "image/png": "[encoded data removed]",
      "text/plain": [
       "<Figure size 432x288 with 1 Axes>"
      ]
     },
     "metadata": {
      "needs_background": "light"
     },
     "output_type": "display_data"
    }
   ],
   "source": [
    "history = pd.DataFrame(model.history.history)\n",
    "history[['loss','val_loss']].plot()"
   ]
  },
  {
   "cell_type": "code",
   "execution_count": 45,
   "id": "6194e45c",
   "metadata": {},
   "outputs": [
    {
     "name": "stdout",
     "output_type": "stream",
     "text": [
      "====================\n",
      "training data \n",
      "               precision    recall  f1-score   support\n",
      "\n",
      "           0       0.97      0.93      0.95     34386\n",
      "           1       0.91      0.93      0.92     28629\n",
      "           2       0.98      0.95      0.96     84870\n",
      "           3       0.82      0.94      0.88     20755\n",
      "           4       0.97      0.99      0.98     72463\n",
      "           5       0.86      0.81      0.83      8982\n",
      "\n",
      "    accuracy                           0.95    250085\n",
      "   macro avg       0.92      0.92      0.92    250085\n",
      "weighted avg       0.95      0.95      0.95    250085\n",
      "\n",
      "====================\n",
      "validation data \n",
      "               precision    recall  f1-score   support\n",
      "\n",
      "           0       0.94      0.90      0.92     11592\n",
      "           1       0.86      0.89      0.88      9707\n",
      "           2       0.94      0.91      0.92     27950\n",
      "           3       0.74      0.83      0.78      6946\n",
      "           4       0.95      0.96      0.96     24220\n",
      "           5       0.74      0.71      0.73      2947\n",
      "\n",
      "    accuracy                           0.91     83362\n",
      "   macro avg       0.86      0.87      0.86     83362\n",
      "weighted avg       0.91      0.91      0.91     83362\n",
      "\n",
      "====================\n"
     ]
    }
   ],
   "source": [
    "y_tr_pred = model.predict_classes(X_tr)\n",
    "y_cv_pred = model.predict_classes(X_cv)\n",
    "\n",
    "print('=' * 20)\n",
    "print('training data \\n', classification_report(y_tr, y_tr_pred))\n",
    "print('=' * 20)\n",
    "print('validation data \\n',classification_report(y_cv, y_cv_pred))\n",
    "print('=' * 20)"
   ]
  },
  {
   "cell_type": "markdown",
   "id": "6993db0a",
   "metadata": {},
   "source": [
    "### RNN with dropout layers"
   ]
  },
  {
   "cell_type": "code",
   "execution_count": 46,
   "id": "bc4d8186",
   "metadata": {},
   "outputs": [],
   "source": [
    "model2 = Sequential()\n",
    "model2.add(Embedding(input_dim=12000, output_dim=20, input_length=maxlen))\n",
    "model2.add(Dropout(0.4))\n",
    "model2.add(LSTM(100))\n",
    "model2.add(Dropout(0.4))\n",
    "model2.add(Dense(6, activation='softmax'))\n",
    "\n",
    "model2.compile(loss='sparse_categorical_crossentropy',\n",
    "               optimizer='adam',\n",
    "               metrics=['accuracy'])"
   ]
  },
  {
   "cell_type": "code",
   "execution_count": 47,
   "id": "1ca16e94",
   "metadata": {},
   "outputs": [
    {
     "name": "stdout",
     "output_type": "stream",
     "text": [
      "Train on 250085 samples, validate on 83362 samples\n",
      "Epoch 1/30\n",
      "250085/250085 [==============================] - 277s 1ms/sample - loss: 0.7511 - acc: 0.7105 - val_loss: 0.3597 - val_acc: 0.8749\n",
      "Epoch 2/30\n",
      "250085/250085 [==============================] - 254s 1ms/sample - loss: 0.3493 - acc: 0.8742 - val_loss: 0.2153 - val_acc: 0.9090\n",
      "Epoch 3/30\n",
      "250085/250085 [==============================] - 247s 989us/sample - loss: 0.2367 - acc: 0.9042 - val_loss: 0.1706 - val_acc: 0.9171\n",
      "Epoch 4/30\n",
      "250085/250085 [==============================] - 255s 1ms/sample - loss: 0.1988 - acc: 0.9119 - val_loss: 0.1585 - val_acc: 0.9189\n",
      "Epoch 5/30\n",
      "250085/250085 [==============================] - 295s 1ms/sample - loss: 0.1800 - acc: 0.9161 - val_loss: 0.1528 - val_acc: 0.9214\n",
      "Epoch 6/30\n",
      "250085/250085 [==============================] - 324s 1ms/sample - loss: 0.1708 - acc: 0.9188 - val_loss: 0.1485 - val_acc: 0.9211\n",
      "Epoch 7/30\n",
      "250085/250085 [==============================] - 243s 971us/sample - loss: 0.1611 - acc: 0.9217 - val_loss: 0.1439 - val_acc: 0.9228\n",
      "Epoch 8/30\n",
      "250085/250085 [==============================] - 221s 882us/sample - loss: 0.1574 - acc: 0.9226 - val_loss: 0.1422 - val_acc: 0.9245\n",
      "Epoch 9/30\n",
      "250085/250085 [==============================] - 221s 882us/sample - loss: 0.1520 - acc: 0.9239 - val_loss: 0.1428 - val_acc: 0.9239\n",
      "Epoch 10/30\n",
      "250085/250085 [==============================] - 193s 770us/sample - loss: 0.1501 - acc: 0.9247 - val_loss: 0.1430 - val_acc: 0.9227\n",
      "Epoch 11/30\n",
      "250085/250085 [==============================] - 190s 760us/sample - loss: 0.1471 - acc: 0.9255 - val_loss: 0.1405 - val_acc: 0.9217\n",
      "Epoch 12/30\n",
      "250085/250085 [==============================] - 188s 752us/sample - loss: 0.1436 - acc: 0.9262 - val_loss: 0.1404 - val_acc: 0.9231\n",
      "Epoch 13/30\n",
      "250085/250085 [==============================] - 189s 757us/sample - loss: 0.1412 - acc: 0.9271 - val_loss: 0.1411 - val_acc: 0.9231\n",
      "Epoch 14/30\n",
      "250085/250085 [==============================] - 189s 758us/sample - loss: 0.1399 - acc: 0.9277 - val_loss: 0.1425 - val_acc: 0.9217\n",
      "Epoch 15/30\n",
      "250085/250085 [==============================] - 199s 797us/sample - loss: 0.1378 - acc: 0.9288 - val_loss: 0.1422 - val_acc: 0.9216\n",
      "Epoch 16/30\n",
      "250085/250085 [==============================] - 214s 855us/sample - loss: 0.1355 - acc: 0.9296 - val_loss: 0.1425 - val_acc: 0.9217\n",
      "Epoch 17/30\n",
      "250085/250085 [==============================] - 215s 859us/sample - loss: 0.1346 - acc: 0.9296 - val_loss: 0.1416 - val_acc: 0.9204\n",
      "Epoch 18/30\n",
      "250085/250085 [==============================] - 208s 833us/sample - loss: 0.1327 - acc: 0.9307 - val_loss: 0.1438 - val_acc: 0.9207\n",
      "Epoch 19/30\n",
      "250085/250085 [==============================] - 188s 750us/sample - loss: 0.1313 - acc: 0.9311 - val_loss: 0.1436 - val_acc: 0.9190\n",
      "Epoch 20/30\n",
      "250085/250085 [==============================] - 188s 753us/sample - loss: 0.1299 - acc: 0.9319 - val_loss: 0.1431 - val_acc: 0.9195\n",
      "Epoch 21/30\n",
      "250085/250085 [==============================] - 186s 742us/sample - loss: 0.1300 - acc: 0.9319 - val_loss: 0.1460 - val_acc: 0.9200\n",
      "Epoch 22/30\n",
      "250085/250085 [==============================] - 187s 747us/sample - loss: 0.1281 - acc: 0.9324 - val_loss: 0.1477 - val_acc: 0.9185\n",
      "Epoch 23/30\n",
      "250085/250085 [==============================] - 185s 739us/sample - loss: 0.1272 - acc: 0.9329 - val_loss: 0.1519 - val_acc: 0.9199\n",
      "Epoch 24/30\n",
      "250085/250085 [==============================] - 185s 741us/sample - loss: 0.1264 - acc: 0.9327 - val_loss: 0.1500 - val_acc: 0.9171\n",
      "Epoch 25/30\n",
      "250085/250085 [==============================] - 187s 747us/sample - loss: 0.1254 - acc: 0.9334 - val_loss: 0.1499 - val_acc: 0.9202\n",
      "Epoch 26/30\n",
      "250085/250085 [==============================] - 187s 748us/sample - loss: 0.1245 - acc: 0.9337 - val_loss: 0.1509 - val_acc: 0.9178\n",
      "Epoch 27/30\n",
      "250085/250085 [==============================] - 185s 741us/sample - loss: 0.1236 - acc: 0.9342 - val_loss: 0.1507 - val_acc: 0.9197\n",
      "Epoch 28/30\n",
      "250085/250085 [==============================] - 185s 740us/sample - loss: 0.1231 - acc: 0.9341 - val_loss: 0.1537 - val_acc: 0.9182\n",
      "Epoch 29/30\n",
      "250085/250085 [==============================] - 187s 748us/sample - loss: 0.1227 - acc: 0.9346 - val_loss: 0.1507 - val_acc: 0.9188\n",
      "Epoch 30/30\n",
      "250085/250085 [==============================] - 186s 745us/sample - loss: 0.1226 - acc: 0.9348 - val_loss: 0.1545 - val_acc: 0.9185\n"
     ]
    },
    {
     "data": {
      "text/plain": [
       "<tensorflow.python.keras.callbacks.History at 0x7fce884aa150>"
      ]
     },
     "execution_count": 47,
     "metadata": {},
     "output_type": "execute_result"
    }
   ],
   "source": [
    "model2.fit(X_tr, y_tr, validation_data=(X_cv, y_cv), epochs=30, batch_size=64)"
   ]
  },
  {
   "cell_type": "code",
   "execution_count": 48,
   "id": "6f9627b2",
   "metadata": {},
   "outputs": [
    {
     "data": {
      "text/plain": [
       "<AxesSubplot:>"
      ]
     },
     "execution_count": 48,
     "metadata": {},
     "output_type": "execute_result"
    },
    {
     "data": {
      "image/png": "[encoded data removed]",
      "text/plain": [
       "<Figure size 432x288 with 1 Axes>"
      ]
     },
     "metadata": {
      "needs_background": "light"
     },
     "output_type": "display_data"
    }
   ],
   "source": [
    "history = pd.DataFrame(model2.history.history)\n",
    "history[['loss','val_loss']].plot()"
   ]
  },
  {
   "cell_type": "code",
   "execution_count": 49,
   "id": "821fe688",
   "metadata": {},
   "outputs": [
    {
     "name": "stdout",
     "output_type": "stream",
     "text": [
      "====================\n",
      "training data \n",
      "               precision    recall  f1-score   support\n",
      "\n",
      "           0       0.95      0.95      0.95     34386\n",
      "           1       0.86      0.98      0.91     28629\n",
      "           2       0.93      0.98      0.96     84870\n",
      "           3       0.97      0.71      0.82     20755\n",
      "           4       0.99      0.96      0.97     72463\n",
      "           5       0.85      0.77      0.81      8982\n",
      "\n",
      "    accuracy                           0.94    250085\n",
      "   macro avg       0.93      0.89      0.90    250085\n",
      "weighted avg       0.94      0.94      0.94    250085\n",
      "\n",
      "====================\n",
      "validation data \n",
      "               precision    recall  f1-score   support\n",
      "\n",
      "           0       0.93      0.93      0.93     11592\n",
      "           1       0.84      0.96      0.90      9707\n",
      "           2       0.91      0.96      0.94     27950\n",
      "           3       0.90      0.65      0.76      6946\n",
      "           4       0.98      0.95      0.96     24220\n",
      "           5       0.80      0.74      0.77      2947\n",
      "\n",
      "    accuracy                           0.92     83362\n",
      "   macro avg       0.89      0.86      0.87     83362\n",
      "weighted avg       0.92      0.92      0.92     83362\n",
      "\n",
      "====================\n"
     ]
    }
   ],
   "source": [
    "y_tr_pred = model2.predict_classes(X_tr)\n",
    "y_cv_pred = model2.predict_classes(X_cv)\n",
    "\n",
    "print('=' * 20)\n",
    "print('training data \\n', classification_report(y_tr, y_tr_pred))\n",
    "print('=' * 20)\n",
    "print('validation data \\n',classification_report(y_cv, y_cv_pred))\n",
    "print('=' * 20)"
   ]
  },
  {
   "cell_type": "markdown",
   "id": "f58213b4",
   "metadata": {},
   "source": [
    "### Biderectional lstm"
   ]
  },
  {
   "cell_type": "code",
   "execution_count": 50,
   "id": "257b5061",
   "metadata": {},
   "outputs": [
    {
     "name": "stdout",
     "output_type": "stream",
     "text": [
      "WARNING:tensorflow:From /home/chaitanya/anaconda3/lib/python3.7/site-packages/tensorflow/python/ops/init_ops.py:97: calling GlorotUniform.__init__ (from tensorflow.python.ops.init_ops) with dtype is deprecated and will be removed in a future version.\n",
      "Instructions for updating:\n",
      "Call initializer instance with the dtype argument instead of passing it to the constructor\n",
      "WARNING:tensorflow:From /home/chaitanya/anaconda3/lib/python3.7/site-packages/tensorflow/python/ops/init_ops.py:97: calling Orthogonal.__init__ (from tensorflow.python.ops.init_ops) with dtype is deprecated and will be removed in a future version.\n",
      "Instructions for updating:\n",
      "Call initializer instance with the dtype argument instead of passing it to the constructor\n",
      "WARNING:tensorflow:From /home/chaitanya/anaconda3/lib/python3.7/site-packages/tensorflow/python/ops/init_ops.py:97: calling Zeros.__init__ (from tensorflow.python.ops.init_ops) with dtype is deprecated and will be removed in a future version.\n",
      "Instructions for updating:\n",
      "Call initializer instance with the dtype argument instead of passing it to the constructor\n"
     ]
    }
   ],
   "source": [
    "model3 = Sequential()\n",
    "model3.add(Embedding(input_dim=12000, output_dim=20, input_length=maxlen))\n",
    "model3.add(Dropout(0.2))\n",
    "model3.add(Bidirectional(LSTM(100)))\n",
    "model3.add(Dropout(0.4))\n",
    "model3.add(Dense(6, activation='softmax'))\n",
    "\n",
    "model3.compile(loss='sparse_categorical_crossentropy',\n",
    "               optimizer='adam',\n",
    "               metrics=['accuracy'])"
   ]
  },
  {
   "cell_type": "code",
   "execution_count": 51,
   "id": "accde923",
   "metadata": {
    "scrolled": true
   },
   "outputs": [
    {
     "name": "stdout",
     "output_type": "stream",
     "text": [
      "Train on 250085 samples, validate on 83362 samples\n",
      "Epoch 1/30\n",
      "250085/250085 [==============================] - 340s 1ms/sample - loss: 0.4211 - acc: 0.8380 - val_loss: 0.1799 - val_acc: 0.9147\n",
      "Epoch 2/30\n",
      "250085/250085 [==============================] - 382s 2ms/sample - loss: 0.1918 - acc: 0.9140 - val_loss: 0.1579 - val_acc: 0.9200\n",
      "Epoch 3/30\n",
      "250085/250085 [==============================] - 392s 2ms/sample - loss: 0.1684 - acc: 0.9194 - val_loss: 0.1528 - val_acc: 0.9201\n",
      "Epoch 4/30\n",
      "250085/250085 [==============================] - 401s 2ms/sample - loss: 0.1571 - acc: 0.9230 - val_loss: 0.1475 - val_acc: 0.9210\n",
      "Epoch 5/30\n",
      "250085/250085 [==============================] - 371s 1ms/sample - loss: 0.1480 - acc: 0.9246 - val_loss: 0.1437 - val_acc: 0.9213\n",
      "Epoch 6/30\n",
      "250085/250085 [==============================] - 364s 1ms/sample - loss: 0.1420 - acc: 0.9267 - val_loss: 0.1455 - val_acc: 0.9209\n",
      "Epoch 7/30\n",
      "250085/250085 [==============================] - 359s 1ms/sample - loss: 0.1369 - acc: 0.9284 - val_loss: 0.1452 - val_acc: 0.9210\n",
      "Epoch 8/30\n",
      "250085/250085 [==============================] - 360s 1ms/sample - loss: 0.1332 - acc: 0.9296 - val_loss: 0.1458 - val_acc: 0.9195\n",
      "Epoch 9/30\n",
      "250085/250085 [==============================] - 358s 1ms/sample - loss: 0.1304 - acc: 0.9307 - val_loss: 0.1468 - val_acc: 0.9186\n",
      "Epoch 10/30\n",
      "250085/250085 [==============================] - 394s 2ms/sample - loss: 0.1272 - acc: 0.9321 - val_loss: 0.1465 - val_acc: 0.9198\n",
      "Epoch 11/30\n",
      "250085/250085 [==============================] - 374s 1ms/sample - loss: 0.1238 - acc: 0.9330 - val_loss: 0.1487 - val_acc: 0.9182\n",
      "Epoch 12/30\n",
      "250085/250085 [==============================] - 335s 1ms/sample - loss: 0.1220 - acc: 0.9336 - val_loss: 0.1507 - val_acc: 0.9169\n",
      "Epoch 13/30\n",
      "250085/250085 [==============================] - 334s 1ms/sample - loss: 0.1185 - acc: 0.9351 - val_loss: 0.1555 - val_acc: 0.9153\n",
      "Epoch 14/30\n",
      "250085/250085 [==============================] - 330s 1ms/sample - loss: 0.1166 - acc: 0.9361 - val_loss: 0.1564 - val_acc: 0.9146\n",
      "Epoch 15/30\n",
      "250085/250085 [==============================] - 332s 1ms/sample - loss: 0.1142 - acc: 0.9370 - val_loss: 0.1567 - val_acc: 0.9155\n",
      "Epoch 16/30\n",
      "250085/250085 [==============================] - 329s 1ms/sample - loss: 0.1135 - acc: 0.9374 - val_loss: 0.1606 - val_acc: 0.9144\n",
      "Epoch 17/30\n",
      "250085/250085 [==============================] - 359s 1ms/sample - loss: 0.1112 - acc: 0.9387 - val_loss: 0.1611 - val_acc: 0.9126\n",
      "Epoch 18/30\n",
      "250085/250085 [==============================] - 398s 2ms/sample - loss: 0.1092 - acc: 0.9399 - val_loss: 0.1693 - val_acc: 0.9120\n",
      "Epoch 19/30\n",
      "250085/250085 [==============================] - 389s 2ms/sample - loss: 0.1082 - acc: 0.9401 - val_loss: 0.1706 - val_acc: 0.9116\n",
      "Epoch 20/30\n",
      "250085/250085 [==============================] - 346s 1ms/sample - loss: 0.1080 - acc: 0.9402 - val_loss: 0.1695 - val_acc: 0.9119\n",
      "Epoch 21/30\n",
      "250085/250085 [==============================] - 343s 1ms/sample - loss: 0.1058 - acc: 0.9409 - val_loss: 0.1741 - val_acc: 0.9097\n",
      "Epoch 22/30\n",
      "250085/250085 [==============================] - 347s 1ms/sample - loss: 0.1045 - acc: 0.9419 - val_loss: 0.1775 - val_acc: 0.9135\n",
      "Epoch 23/30\n",
      "250085/250085 [==============================] - 340s 1ms/sample - loss: 0.1039 - acc: 0.9423 - val_loss: 0.1807 - val_acc: 0.9090\n",
      "Epoch 24/30\n",
      "250085/250085 [==============================] - 339s 1ms/sample - loss: 0.1034 - acc: 0.9424 - val_loss: 0.1780 - val_acc: 0.9098\n",
      "Epoch 25/30\n",
      "250085/250085 [==============================] - 409s 2ms/sample - loss: 0.1026 - acc: 0.9424 - val_loss: 0.1858 - val_acc: 0.9099\n",
      "Epoch 26/30\n",
      "250085/250085 [==============================] - 461s 2ms/sample - loss: 0.1008 - acc: 0.9433 - val_loss: 0.1839 - val_acc: 0.9078\n",
      "Epoch 27/30\n",
      "250085/250085 [==============================] - 452s 2ms/sample - loss: 0.1009 - acc: 0.9436 - val_loss: 0.1932 - val_acc: 0.9108\n",
      "Epoch 28/30\n",
      "250085/250085 [==============================] - 459s 2ms/sample - loss: 0.0997 - acc: 0.9439 - val_loss: 0.1843 - val_acc: 0.9082\n",
      "Epoch 29/30\n",
      "250085/250085 [==============================] - 369s 1ms/sample - loss: 0.0994 - acc: 0.9443 - val_loss: 0.1910 - val_acc: 0.9075\n",
      "Epoch 30/30\n",
      "250085/250085 [==============================] - 327s 1ms/sample - loss: 0.0983 - acc: 0.9449 - val_loss: 0.1939 - val_acc: 0.9083\n"
     ]
    },
    {
     "data": {
      "text/plain": [
       "<tensorflow.python.keras.callbacks.History at 0x7fce39c5c390>"
      ]
     },
     "execution_count": 51,
     "metadata": {},
     "output_type": "execute_result"
    }
   ],
   "source": [
    "model3.fit(X_tr, y_tr, validation_data=(X_cv, y_cv), epochs=30, batch_size=64)"
   ]
  },
  {
   "cell_type": "code",
   "execution_count": 52,
   "id": "06db85fa",
   "metadata": {},
   "outputs": [
    {
     "data": {
      "text/plain": [
       "<AxesSubplot:>"
      ]
     },
     "execution_count": 52,
     "metadata": {},
     "output_type": "execute_result"
    },
    {
     "data": {
      "image/png": "[encoded data removed]",
      "text/plain": [
       "<Figure size 432x288 with 1 Axes>"
      ]
     },
     "metadata": {
      "needs_background": "light"
     },
     "output_type": "display_data"
    }
   ],
   "source": [
    "history = pd.DataFrame(model3.history.history)\n",
    "history[['loss','val_loss']].plot()"
   ]
  },
  {
   "cell_type": "code",
   "execution_count": 53,
   "id": "0352b292",
   "metadata": {
    "scrolled": true
   },
   "outputs": [
    {
     "name": "stdout",
     "output_type": "stream",
     "text": [
      "====================\n",
      "training data \n",
      "               precision    recall  f1-score   support\n",
      "\n",
      "           0       0.95      0.97      0.96     34386\n",
      "           1       0.89      0.97      0.93     28629\n",
      "           2       0.95      0.98      0.97     84870\n",
      "           3       0.95      0.79      0.86     20755\n",
      "           4       0.99      0.97      0.98     72463\n",
      "           5       0.92      0.75      0.83      8982\n",
      "\n",
      "    accuracy                           0.95    250085\n",
      "   macro avg       0.94      0.91      0.92    250085\n",
      "weighted avg       0.95      0.95      0.95    250085\n",
      "\n",
      "====================\n",
      "validation data \n",
      "               precision    recall  f1-score   support\n",
      "\n",
      "           0       0.92      0.93      0.92     11592\n",
      "           1       0.84      0.91      0.88      9707\n",
      "           2       0.91      0.95      0.93     27950\n",
      "           3       0.82      0.69      0.75      6946\n",
      "           4       0.97      0.94      0.96     24220\n",
      "           5       0.81      0.67      0.73      2947\n",
      "\n",
      "    accuracy                           0.91     83362\n",
      "   macro avg       0.88      0.85      0.86     83362\n",
      "weighted avg       0.91      0.91      0.91     83362\n",
      "\n",
      "====================\n"
     ]
    }
   ],
   "source": [
    "y_tr_pred = model3.predict_classes(X_tr)\n",
    "y_cv_pred = model3.predict_classes(X_cv)\n",
    "print('=' * 20)\n",
    "print('training data \\n', classification_report(y_tr, y_tr_pred))\n",
    "print('=' * 20)\n",
    "print('validation data \\n',classification_report(y_cv, y_cv_pred))\n",
    "print('=' * 20)"
   ]
  },
  {
   "cell_type": "markdown",
   "id": "5e04d1dd",
   "metadata": {},
   "source": [
    "Therefore, bidirectional LSTM with dropout layer works best on validation data"
   ]
  },
  {
   "cell_type": "code",
   "execution_count": 55,
   "id": "efede995",
   "metadata": {},
   "outputs": [],
   "source": [
    "y_test_pred1 = model.predict_classes(X_test)\n",
    "y_test_pred2 = model2.predict_classes(X_test)\n",
    "y_test_pred3 = model3.predict_classes(X_test)"
   ]
  },
  {
   "cell_type": "code",
   "execution_count": 56,
   "id": "65413f2e",
   "metadata": {},
   "outputs": [
    {
     "name": "stdout",
     "output_type": "stream",
     "text": [
      "====================\n",
      "              precision    recall  f1-score   support\n",
      "\n",
      "           0       0.93      0.90      0.92     11339\n",
      "           1       0.86      0.89      0.88      9376\n",
      "           2       0.94      0.91      0.93     28247\n",
      "           3       0.74      0.83      0.78      6853\n",
      "           4       0.95      0.96      0.96     24504\n",
      "           5       0.78      0.73      0.75      3043\n",
      "\n",
      "    accuracy                           0.91     83362\n",
      "   macro avg       0.87      0.87      0.87     83362\n",
      "weighted avg       0.91      0.91      0.91     83362\n",
      "\n",
      "====================\n",
      "              precision    recall  f1-score   support\n",
      "\n",
      "           0       0.93      0.93      0.93     11339\n",
      "           1       0.84      0.96      0.89      9376\n",
      "           2       0.91      0.96      0.94     28247\n",
      "           3       0.90      0.66      0.76      6853\n",
      "           4       0.97      0.95      0.96     24504\n",
      "           5       0.82      0.75      0.78      3043\n",
      "\n",
      "    accuracy                           0.92     83362\n",
      "   macro avg       0.89      0.87      0.88     83362\n",
      "weighted avg       0.92      0.92      0.92     83362\n",
      "\n",
      "====================\n",
      "              precision    recall  f1-score   support\n",
      "\n",
      "           0       0.91      0.93      0.92     11339\n",
      "           1       0.84      0.92      0.88      9376\n",
      "           2       0.91      0.95      0.93     28247\n",
      "           3       0.82      0.70      0.75      6853\n",
      "           4       0.96      0.94      0.95     24504\n",
      "           5       0.83      0.67      0.74      3043\n",
      "\n",
      "    accuracy                           0.91     83362\n",
      "   macro avg       0.88      0.85      0.86     83362\n",
      "weighted avg       0.91      0.91      0.91     83362\n",
      "\n",
      "====================\n"
     ]
    }
   ],
   "source": [
    "print('=' * 20)\n",
    "print(classification_report(y_test, y_test_pred1))\n",
    "print('=' * 20)\n",
    "print(classification_report(y_test, y_test_pred2))\n",
    "print('=' * 20)\n",
    "print(classification_report(y_test, y_test_pred3))\n",
    "print('=' * 20)\n"
   ]
  },
  {
   "cell_type": "markdown",
   "id": "1326d5ff",
   "metadata": {},
   "source": [
    "It looks like unidirectional LSTM with dropout layers performs better on the validation as well as the test data compared to other two variants. "
   ]
  },
  {
   "cell_type": "code",
   "execution_count": null,
   "id": "c16b766f",
   "metadata": {},
   "outputs": [],
   "source": []
  }
 ],
 "metadata": {
  "kernelspec": {
   "display_name": "Python 3",
   "language": "python",
   "name": "python3"
  },
  "language_info": {
   "codemirror_mode": {
    "name": "ipython",
    "version": 3
   },
   "file_extension": ".py",
   "mimetype": "text/x-python",
   "name": "python",
   "nbconvert_exporter": "python",
   "pygments_lexer": "ipython3",
   "version": "3.7.7"
  }
 },
 "nbformat": 4,
 "nbformat_minor": 5
}
