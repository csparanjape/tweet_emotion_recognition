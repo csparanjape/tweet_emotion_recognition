{
 "cells": [
  {
   "cell_type": "markdown",
   "id": "ff5a0dbc",
   "metadata": {},
   "source": [
    "# Tweet emotion Recognition"
   ]
  },
  {
   "cell_type": "code",
   "execution_count": 1,
   "id": "b2898d46",
   "metadata": {},
   "outputs": [],
   "source": [
    "import pandas as pd # Data analysis library\n",
    "import pickle\n",
    "import numpy as np\n",
    "#import nlp\n",
    "# Plotting libraries\n",
    "import matplotlib.pyplot as plt\n",
    "import seaborn as sns\n",
    "\n",
    "import re\n",
    "import string\n",
    "\n",
    "from nltk.corpus import stopwords\n",
    "from nltk.stem import SnowballStemmer\n",
    "from nltk.stem import WordNetLemmatizer\n",
    "\n",
    "from sklearn.model_selection import train_test_split\n",
    "\n",
    "%matplotlib inline\n",
    "fig_params={'legend.fontsize':18,\n",
    "          'axes.labelsize': 18,\n",
    "          'axes.titlesize':20,\n",
    "          'xtick.labelsize':16,\n",
    "          'ytick.labelsize':16,             \n",
    "          'axes.facecolor':'#D9DDD1'}\n",
    "plt.rcParams.update(fig_params)"
   ]
  },
  {
   "cell_type": "code",
   "execution_count": 2,
   "id": "5d243572",
   "metadata": {
    "scrolled": true
   },
   "outputs": [],
   "source": [
    "#dataset=nlp.load_dataset('emotion')"
   ]
  },
  {
   "cell_type": "code",
   "execution_count": 3,
   "id": "7650af49",
   "metadata": {},
   "outputs": [],
   "source": [
    "#dataset"
   ]
  },
  {
   "cell_type": "code",
   "execution_count": 4,
   "id": "5a6a21b8",
   "metadata": {},
   "outputs": [],
   "source": [
    "df=pd.read_pickle('./data/merged_training.pkl')"
   ]
  },
  {
   "cell_type": "code",
   "execution_count": 5,
   "id": "37dd613d",
   "metadata": {},
   "outputs": [
    {
     "data": {
      "text/html": [
       "<div>\n",
       "<style scoped>\n",
       "    .dataframe tbody tr th:only-of-type {\n",
       "        vertical-align: middle;\n",
       "    }\n",
       "\n",
       "    .dataframe tbody tr th {\n",
       "        vertical-align: top;\n",
       "    }\n",
       "\n",
       "    .dataframe thead th {\n",
       "        text-align: right;\n",
       "    }\n",
       "</style>\n",
       "<table border=\"1\" class=\"dataframe\">\n",
       "  <thead>\n",
       "    <tr style=\"text-align: right;\">\n",
       "      <th></th>\n",
       "      <th>text</th>\n",
       "      <th>emotions</th>\n",
       "    </tr>\n",
       "  </thead>\n",
       "  <tbody>\n",
       "    <tr>\n",
       "      <th>27383</th>\n",
       "      <td>i feel awful about it too because it s my job ...</td>\n",
       "      <td>sadness</td>\n",
       "    </tr>\n",
       "    <tr>\n",
       "      <th>110083</th>\n",
       "      <td>im alone i feel awful</td>\n",
       "      <td>sadness</td>\n",
       "    </tr>\n",
       "    <tr>\n",
       "      <th>140764</th>\n",
       "      <td>ive probably mentioned this before but i reall...</td>\n",
       "      <td>joy</td>\n",
       "    </tr>\n",
       "    <tr>\n",
       "      <th>100071</th>\n",
       "      <td>i was feeling a little low few days back</td>\n",
       "      <td>sadness</td>\n",
       "    </tr>\n",
       "    <tr>\n",
       "      <th>2837</th>\n",
       "      <td>i beleive that i am much more sensitive to oth...</td>\n",
       "      <td>love</td>\n",
       "    </tr>\n",
       "  </tbody>\n",
       "</table>\n",
       "</div>"
      ],
      "text/plain": [
       "                                                     text emotions\n",
       "27383   i feel awful about it too because it s my job ...  sadness\n",
       "110083                              im alone i feel awful  sadness\n",
       "140764  ive probably mentioned this before but i reall...      joy\n",
       "100071           i was feeling a little low few days back  sadness\n",
       "2837    i beleive that i am much more sensitive to oth...     love"
      ]
     },
     "execution_count": 5,
     "metadata": {},
     "output_type": "execute_result"
    }
   ],
   "source": [
    "df.head()"
   ]
  },
  {
   "cell_type": "code",
   "execution_count": 6,
   "id": "30809e4e",
   "metadata": {},
   "outputs": [
    {
     "name": "stdout",
     "output_type": "stream",
     "text": [
      "<class 'pandas.core.frame.DataFrame'>\n",
      "Int64Index: 416809 entries, 27383 to 64703\n",
      "Data columns (total 2 columns):\n",
      " #   Column    Non-Null Count   Dtype \n",
      "---  ------    --------------   ----- \n",
      " 0   text      416809 non-null  object\n",
      " 1   emotions  416809 non-null  object\n",
      "dtypes: object(2)\n",
      "memory usage: 9.5+ MB\n"
     ]
    }
   ],
   "source": [
    "df.info()"
   ]
  },
  {
   "cell_type": "code",
   "execution_count": 7,
   "id": "9d749a5a",
   "metadata": {},
   "outputs": [
    {
     "data": {
      "text/plain": [
       "array(['sadness', 'joy', 'love', 'anger', 'fear', 'surprise'],\n",
       "      dtype=object)"
      ]
     },
     "execution_count": 7,
     "metadata": {},
     "output_type": "execute_result"
    }
   ],
   "source": [
    "df['emotions'].unique()"
   ]
  },
  {
   "cell_type": "code",
   "execution_count": 8,
   "id": "6693b7c7",
   "metadata": {},
   "outputs": [
    {
     "data": {
      "text/plain": [
       "<AxesSubplot:>"
      ]
     },
     "execution_count": 8,
     "metadata": {},
     "output_type": "execute_result"
    },
    {
     "data": {
      "image/png": "[encoded data removed]",
      "text/plain": [
       "<Figure size 432x288 with 1 Axes>"
      ]
     },
     "metadata": {
      "needs_background": "light"
     },
     "output_type": "display_data"
    }
   ],
   "source": [
    "df['emotions'].value_counts().plot(kind='bar')"
   ]
  },
  {
   "cell_type": "markdown",
   "id": "1f4cea03",
   "metadata": {},
   "source": [
    "Let's create test,train and validation datasets from the above dataset."
   ]
  },
  {
   "cell_type": "code",
   "execution_count": 9,
   "id": "87221ef4",
   "metadata": {},
   "outputs": [],
   "source": [
    "X=df['text'];y=df['emotions']"
   ]
  },
  {
   "cell_type": "code",
   "execution_count": 10,
   "id": "4e23cea1",
   "metadata": {
    "scrolled": true
   },
   "outputs": [],
   "source": [
    "tweet_tmp,tweet_ts,y_tmp,y_ts=train_test_split(X,y,test_size=0.8,random_state=42)\n",
    "tweet_tr,tweet_cv,y_tr,y_cv=train_test_split(tweet_tmp,y_tmp,test_size=0.7,random_state=42)"
   ]
  },
  {
   "cell_type": "code",
   "execution_count": 11,
   "id": "04c73917",
   "metadata": {},
   "outputs": [],
   "source": [
    "df_train=pd.concat([tweet_tr,y_tr],axis=1)\n",
    "df_val=pd.concat([tweet_cv,y_cv],axis=1)\n",
    "df_test=pd.concat([tweet_ts,y_ts],axis=1)"
   ]
  },
  {
   "cell_type": "code",
   "execution_count": 12,
   "id": "b0bce9de",
   "metadata": {},
   "outputs": [],
   "source": [
    "pickle.dump(df_train,open('./data/train.pkl','wb'))\n",
    "pickle.dump(df_test,open('./data/test.pkl','wb'))\n",
    "pickle.dump(df_val,open('./data/validation.pkl','wb'))"
   ]
  },
  {
   "cell_type": "markdown",
   "id": "177296cc",
   "metadata": {},
   "source": [
    "## Tokenization"
   ]
  },
  {
   "cell_type": "code",
   "execution_count": 13,
   "id": "838957d1",
   "metadata": {},
   "outputs": [],
   "source": [
    "def clean_text(text):\n",
    "    text = text.lower()\n",
    "    text = re.sub('[%s]' % re.escape(string.punctuation), '', text)\n",
    "    text = re.sub(pattern='\\n', repl=' ', string=text)\n",
    "    text = re.sub(pattern='\\t', repl=' ', string=text)\n",
    "    text = re.sub('[0-9]', '', text)\n",
    "    return text\n",
    "\n",
    "\n",
    "def remove_stopwords_stemming(stemmer, text,need_stemming=True):\n",
    "    if bool(need_stemming)==True:\n",
    "        text_ret = [\n",
    "            stemmer.stem(word.lower()) for word in text.split()\n",
    "            if word.lower() not in stopwords.words('english')\n",
    "        ]\n",
    "    else:\n",
    "        text_ret = [\n",
    "            word.lower() for word in text.split()\n",
    "            if word.lower() not in stopwords.words('english')\n",
    "        ]\n",
    "    return ' '.join(text_ret)\n",
    "\n",
    "\n",
    "def stemming(stemmer, text):\n",
    "    list = [stemmer.stem(word) for word in text.split()]\n",
    "    return ' '.join(list)\n",
    "\n",
    "\n",
    "def text_processing(text):\n",
    "    text = clean_text(text)\n",
    "    text = remove_stopwords_stemming(stemmer,text,need_stemming=True)\n",
    "    #text=stemming(stemmer,text)\n",
    "    return text"
   ]
  },
  {
   "cell_type": "code",
   "execution_count": 14,
   "id": "98929d47",
   "metadata": {},
   "outputs": [],
   "source": [
    "stemmer=SnowballStemmer(language='english')"
   ]
  },
  {
   "cell_type": "code",
   "execution_count": 15,
   "id": "704fa776",
   "metadata": {},
   "outputs": [],
   "source": [
    "df_train['processed']=df_train['text'].apply(lambda x:text_processing(x))"
   ]
  },
  {
   "cell_type": "code",
   "execution_count": 16,
   "id": "1519c29a",
   "metadata": {},
   "outputs": [
    {
     "data": {
      "text/html": [
       "<div>\n",
       "<style scoped>\n",
       "    .dataframe tbody tr th:only-of-type {\n",
       "        vertical-align: middle;\n",
       "    }\n",
       "\n",
       "    .dataframe tbody tr th {\n",
       "        vertical-align: top;\n",
       "    }\n",
       "\n",
       "    .dataframe thead th {\n",
       "        text-align: right;\n",
       "    }\n",
       "</style>\n",
       "<table border=\"1\" class=\"dataframe\">\n",
       "  <thead>\n",
       "    <tr style=\"text-align: right;\">\n",
       "      <th></th>\n",
       "      <th>text</th>\n",
       "      <th>emotions</th>\n",
       "      <th>processed</th>\n",
       "    </tr>\n",
       "  </thead>\n",
       "  <tbody>\n",
       "    <tr>\n",
       "      <th>51093</th>\n",
       "      <td>i feel like the only defense for it is ignoran...</td>\n",
       "      <td>joy</td>\n",
       "      <td>feel like defens ignor compar detroit citi lik...</td>\n",
       "    </tr>\n",
       "    <tr>\n",
       "      <th>30929</th>\n",
       "      <td>i mean im not feeling so scared about it but m...</td>\n",
       "      <td>fear</td>\n",
       "      <td>mean im feel scare excit</td>\n",
       "    </tr>\n",
       "    <tr>\n",
       "      <th>119805</th>\n",
       "      <td>ive been in this state of just doing what i ha...</td>\n",
       "      <td>sadness</td>\n",
       "      <td>ive state without feel emot tie feel chang life</td>\n",
       "    </tr>\n",
       "    <tr>\n",
       "      <th>92861</th>\n",
       "      <td>i stubbornly refuse to give up even though it ...</td>\n",
       "      <td>sadness</td>\n",
       "      <td>stubborn refus give even though feel awkward</td>\n",
       "    </tr>\n",
       "    <tr>\n",
       "      <th>6804</th>\n",
       "      <td>i enjoy my job of the time and feel blessed to...</td>\n",
       "      <td>love</td>\n",
       "      <td>enjoy job time feel bless abl work full time h...</td>\n",
       "    </tr>\n",
       "    <tr>\n",
       "      <th>...</th>\n",
       "      <td>...</td>\n",
       "      <td>...</td>\n",
       "      <td>...</td>\n",
       "    </tr>\n",
       "    <tr>\n",
       "      <th>26155</th>\n",
       "      <td>i feel since all the armies are distracted wit...</td>\n",
       "      <td>anger</td>\n",
       "      <td>feel sinc armi distract purpl republ</td>\n",
       "    </tr>\n",
       "    <tr>\n",
       "      <th>82576</th>\n",
       "      <td>i moved in and scooped her up and she lay her ...</td>\n",
       "      <td>sadness</td>\n",
       "      <td>move scoop lay head shoulder clear feel defeat...</td>\n",
       "    </tr>\n",
       "    <tr>\n",
       "      <th>18186</th>\n",
       "      <td>i feel pretty shy about photos of myself espec...</td>\n",
       "      <td>fear</td>\n",
       "      <td>feel pretti shi photo especi right</td>\n",
       "    </tr>\n",
       "    <tr>\n",
       "      <th>42091</th>\n",
       "      <td>i won t feel quite so suspicious of the power ...</td>\n",
       "      <td>fear</td>\n",
       "      <td>feel quit suspici power struggl within local c...</td>\n",
       "    </tr>\n",
       "    <tr>\n",
       "      <th>34798</th>\n",
       "      <td>i have something to say on books admittedly i ...</td>\n",
       "      <td>anger</td>\n",
       "      <td>someth say book admit dont alway leav small re...</td>\n",
       "    </tr>\n",
       "  </tbody>\n",
       "</table>\n",
       "<p>25008 rows × 3 columns</p>\n",
       "</div>"
      ],
      "text/plain": [
       "                                                     text emotions  \\\n",
       "51093   i feel like the only defense for it is ignoran...      joy   \n",
       "30929   i mean im not feeling so scared about it but m...     fear   \n",
       "119805  ive been in this state of just doing what i ha...  sadness   \n",
       "92861   i stubbornly refuse to give up even though it ...  sadness   \n",
       "6804    i enjoy my job of the time and feel blessed to...     love   \n",
       "...                                                   ...      ...   \n",
       "26155   i feel since all the armies are distracted wit...    anger   \n",
       "82576   i moved in and scooped her up and she lay her ...  sadness   \n",
       "18186   i feel pretty shy about photos of myself espec...     fear   \n",
       "42091   i won t feel quite so suspicious of the power ...     fear   \n",
       "34798   i have something to say on books admittedly i ...    anger   \n",
       "\n",
       "                                                processed  \n",
       "51093   feel like defens ignor compar detroit citi lik...  \n",
       "30929                            mean im feel scare excit  \n",
       "119805    ive state without feel emot tie feel chang life  \n",
       "92861        stubborn refus give even though feel awkward  \n",
       "6804    enjoy job time feel bless abl work full time h...  \n",
       "...                                                   ...  \n",
       "26155                feel sinc armi distract purpl republ  \n",
       "82576   move scoop lay head shoulder clear feel defeat...  \n",
       "18186                  feel pretti shi photo especi right  \n",
       "42091   feel quit suspici power struggl within local c...  \n",
       "34798   someth say book admit dont alway leav small re...  \n",
       "\n",
       "[25008 rows x 3 columns]"
      ]
     },
     "execution_count": 16,
     "metadata": {},
     "output_type": "execute_result"
    }
   ],
   "source": [
    "df_train"
   ]
  },
  {
   "cell_type": "code",
   "execution_count": 17,
   "id": "81d73de4",
   "metadata": {
    "scrolled": true
   },
   "outputs": [
    {
     "data": {
      "text/html": [
       "<div>\n",
       "<style scoped>\n",
       "    .dataframe tbody tr th:only-of-type {\n",
       "        vertical-align: middle;\n",
       "    }\n",
       "\n",
       "    .dataframe tbody tr th {\n",
       "        vertical-align: top;\n",
       "    }\n",
       "\n",
       "    .dataframe thead th {\n",
       "        text-align: right;\n",
       "    }\n",
       "</style>\n",
       "<table border=\"1\" class=\"dataframe\">\n",
       "  <thead>\n",
       "    <tr style=\"text-align: right;\">\n",
       "      <th></th>\n",
       "      <th>text</th>\n",
       "      <th>emotions</th>\n",
       "      <th>processed</th>\n",
       "    </tr>\n",
       "  </thead>\n",
       "  <tbody>\n",
       "    <tr>\n",
       "      <th>count</th>\n",
       "      <td>25008</td>\n",
       "      <td>25008</td>\n",
       "      <td>25008</td>\n",
       "    </tr>\n",
       "    <tr>\n",
       "      <th>unique</th>\n",
       "      <td>24917</td>\n",
       "      <td>6</td>\n",
       "      <td>24671</td>\n",
       "    </tr>\n",
       "    <tr>\n",
       "      <th>top</th>\n",
       "      <td>i feel quite smug</td>\n",
       "      <td>joy</td>\n",
       "      <td>feel vain</td>\n",
       "    </tr>\n",
       "    <tr>\n",
       "      <th>freq</th>\n",
       "      <td>2</td>\n",
       "      <td>8477</td>\n",
       "      <td>6</td>\n",
       "    </tr>\n",
       "  </tbody>\n",
       "</table>\n",
       "</div>"
      ],
      "text/plain": [
       "                     text emotions  processed\n",
       "count               25008    25008      25008\n",
       "unique              24917        6      24671\n",
       "top     i feel quite smug      joy  feel vain\n",
       "freq                    2     8477          6"
      ]
     },
     "execution_count": 17,
     "metadata": {},
     "output_type": "execute_result"
    }
   ],
   "source": [
    "df_train.describe()"
   ]
  },
  {
   "cell_type": "code",
   "execution_count": 20,
   "id": "2031427c",
   "metadata": {},
   "outputs": [],
   "source": [
    "df_train['length_text']=df_train['text'].apply(lambda x:len(x.split()))\n",
    "df_train['length_processed']=df_train['processed'].apply(lambda x:len(x.split()))"
   ]
  },
  {
   "cell_type": "code",
   "execution_count": 23,
   "id": "13a2cde6",
   "metadata": {
    "scrolled": false
   },
   "outputs": [
    {
     "data": {
      "image/png": "[encoded data removed]",
      "text/plain": [
       "<Figure size 1008x288 with 2 Axes>"
      ]
     },
     "metadata": {
      "needs_background": "light"
     },
     "output_type": "display_data"
    }
   ],
   "source": [
    "fig,ax=plt.subplots(nrows=1,ncols=2,figsize=(14,4))\n",
    "sns.histplot(ax=ax[0],data=df_train,x='length_text',hue='emotions',bins=40)\n",
    "sns.histplot(ax=ax[1],data=df_train,x='length_processed',hue='emotions',bins=40)\n",
    "plt.show()"
   ]
  },
  {
   "cell_type": "code",
   "execution_count": 25,
   "id": "334f2ab8",
   "metadata": {},
   "outputs": [],
   "source": [
    "from tensorflow.keras.preprocessing.text import Tokenizer\n",
    "from tensorflow.keras.preprocessing.sequence import pad_sequences"
   ]
  },
  {
   "cell_type": "code",
   "execution_count": 26,
   "id": "740ab430",
   "metadata": {},
   "outputs": [],
   "source": [
    "tokenizer=Tokenizer(num_words=12000,oov_token='<UKN>')\n",
    "tokenizer.fit_on_texts(df_train['processed'])"
   ]
  },
  {
   "cell_type": "code",
   "execution_count": 27,
   "id": "0596d634",
   "metadata": {},
   "outputs": [],
   "source": [
    "def get_sequence(tokenizer,text,maxlen):\n",
    "    sequence=tokenizer.texts_to_sequences([text])\n",
    "    padded=pad_sequences(sequences=sequence,maxlen=maxlen,padding='post',truncating='post')\n",
    "    return padded"
   ]
  },
  {
   "cell_type": "code",
   "execution_count": 28,
   "id": "860b2a91",
   "metadata": {},
   "outputs": [],
   "source": [
    "df_train['padded_seq'] = np.squeeze(df_train['processed'].apply(\n",
    "    lambda x: get_sequence(tokenizer=tokenizer, text=x, maxlen=30)))"
   ]
  },
  {
   "cell_type": "code",
   "execution_count": 29,
   "id": "6cf62e4d",
   "metadata": {},
   "outputs": [
    {
     "data": {
      "text/plain": [
       "51093     [[2, 3, 1922, 297, 924, 4950, 889, 3, 924, 566...\n",
       "30929     [[179, 4, 2, 228, 140, 0, 0, 0, 0, 0, 0, 0, 0,...\n",
       "119805    [[22, 470, 93, 2, 105, 1699, 2, 168, 25, 0, 0,...\n",
       "92861     [[845, 1049, 72, 21, 58, 2, 381, 0, 0, 0, 0, 0...\n",
       "6804      [[155, 223, 7, 2, 141, 98, 32, 365, 7, 220, 18...\n",
       "                                ...                        \n",
       "26155     [[2, 122, 2550, 451, 2736, 4813, 0, 0, 0, 0, 0...\n",
       "82576     [[222, 4308, 978, 200, 1399, 791, 2, 476, 386,...\n",
       "18186     [[2, 38, 495, 681, 190, 43, 0, 0, 0, 0, 0, 0, ...\n",
       "42091     [[2, 60, 752, 712, 408, 472, 1257, 708, 60, 83...\n",
       "34798     [[26, 30, 138, 299, 29, 41, 129, 511, 1036, 12...\n",
       "Name: padded_seq, Length: 25008, dtype: object"
      ]
     },
     "execution_count": 29,
     "metadata": {},
     "output_type": "execute_result"
    }
   ],
   "source": [
    "df_train['padded_seq']"
   ]
  },
  {
   "cell_type": "code",
   "execution_count": 30,
   "id": "cd5d3c4d",
   "metadata": {},
   "outputs": [],
   "source": [
    "from sklearn.preprocessing import LabelEncoder"
   ]
  },
  {
   "cell_type": "code",
   "execution_count": 31,
   "id": "b181c9f1",
   "metadata": {},
   "outputs": [],
   "source": [
    "le=LabelEncoder()"
   ]
  },
  {
   "cell_type": "code",
   "execution_count": 35,
   "id": "f5631900",
   "metadata": {},
   "outputs": [
    {
     "data": {
      "text/plain": [
       "LabelEncoder()"
      ]
     },
     "execution_count": 35,
     "metadata": {},
     "output_type": "execute_result"
    }
   ],
   "source": [
    "le.fit(df_train['emotions'])"
   ]
  },
  {
   "cell_type": "code",
   "execution_count": 38,
   "id": "a66259cb",
   "metadata": {},
   "outputs": [
    {
     "data": {
      "text/plain": [
       "array([2, 1, 4, ..., 1, 1, 0])"
      ]
     },
     "execution_count": 38,
     "metadata": {},
     "output_type": "execute_result"
    }
   ],
   "source": [
    "le.transform(df_train['emotions'])"
   ]
  },
  {
   "cell_type": "code",
   "execution_count": null,
   "id": "4eabf8cd",
   "metadata": {},
   "outputs": [],
   "source": []
  }
 ],
 "metadata": {
  "kernelspec": {
   "display_name": "Python 3",
   "language": "python",
   "name": "python3"
  },
  "language_info": {
   "codemirror_mode": {
    "name": "ipython",
    "version": 3
   },
   "file_extension": ".py",
   "mimetype": "text/x-python",
   "name": "python",
   "nbconvert_exporter": "python",
   "pygments_lexer": "ipython3",
   "version": "3.8.10"
  }
 },
 "nbformat": 4,
 "nbformat_minor": 5
}
