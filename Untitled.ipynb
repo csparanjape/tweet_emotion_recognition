{
 "cells": [
  {
   "cell_type": "markdown",
   "id": "ff5a0dbc",
   "metadata": {},
   "source": [
    "# Tweet emotion Recognition"
   ]
  },
  {
   "cell_type": "code",
   "execution_count": 1,
   "id": "b2898d46",
   "metadata": {},
   "outputs": [],
   "source": [
    "import pandas as pd # Data analysis library\n",
    "import pickle\n",
    "import numpy as np\n",
    "#import nlp\n",
    "# Plotting libraries\n",
    "import matplotlib.pyplot as plt\n",
    "import seaborn as sns\n",
    "\n",
    "from sklearn.model_selection import train_test_split\n",
    "\n",
    "%matplotlib inline\n",
    "fig_params={'legend.fontsize':18,\n",
    "          'axes.labelsize': 18,\n",
    "          'axes.titlesize':20,\n",
    "          'xtick.labelsize':16,\n",
    "          'ytick.labelsize':16,             \n",
    "          'axes.facecolor':'#D9DDD1'}\n",
    "plt.rcParams.update(fig_params)"
   ]
  },
  {
   "cell_type": "code",
   "execution_count": 2,
   "id": "5d243572",
   "metadata": {
    "scrolled": true
   },
   "outputs": [],
   "source": [
    "#dataset=nlp.load_dataset('emotion')"
   ]
  },
  {
   "cell_type": "code",
   "execution_count": 3,
   "id": "7650af49",
   "metadata": {},
   "outputs": [],
   "source": [
    "#dataset"
   ]
  },
  {
   "cell_type": "code",
   "execution_count": 4,
   "id": "5a6a21b8",
   "metadata": {},
   "outputs": [],
   "source": [
    "df=pd.read_pickle('./data/merged_training.pkl')"
   ]
  },
  {
   "cell_type": "code",
   "execution_count": 5,
   "id": "37dd613d",
   "metadata": {},
   "outputs": [
    {
     "data": {
      "text/html": [
       "<div>\n",
       "<style scoped>\n",
       "    .dataframe tbody tr th:only-of-type {\n",
       "        vertical-align: middle;\n",
       "    }\n",
       "\n",
       "    .dataframe tbody tr th {\n",
       "        vertical-align: top;\n",
       "    }\n",
       "\n",
       "    .dataframe thead th {\n",
       "        text-align: right;\n",
       "    }\n",
       "</style>\n",
       "<table border=\"1\" class=\"dataframe\">\n",
       "  <thead>\n",
       "    <tr style=\"text-align: right;\">\n",
       "      <th></th>\n",
       "      <th>text</th>\n",
       "      <th>emotions</th>\n",
       "    </tr>\n",
       "  </thead>\n",
       "  <tbody>\n",
       "    <tr>\n",
       "      <th>27383</th>\n",
       "      <td>i feel awful about it too because it s my job ...</td>\n",
       "      <td>sadness</td>\n",
       "    </tr>\n",
       "    <tr>\n",
       "      <th>110083</th>\n",
       "      <td>im alone i feel awful</td>\n",
       "      <td>sadness</td>\n",
       "    </tr>\n",
       "    <tr>\n",
       "      <th>140764</th>\n",
       "      <td>ive probably mentioned this before but i reall...</td>\n",
       "      <td>joy</td>\n",
       "    </tr>\n",
       "    <tr>\n",
       "      <th>100071</th>\n",
       "      <td>i was feeling a little low few days back</td>\n",
       "      <td>sadness</td>\n",
       "    </tr>\n",
       "    <tr>\n",
       "      <th>2837</th>\n",
       "      <td>i beleive that i am much more sensitive to oth...</td>\n",
       "      <td>love</td>\n",
       "    </tr>\n",
       "  </tbody>\n",
       "</table>\n",
       "</div>"
      ],
      "text/plain": [
       "                                                     text emotions\n",
       "27383   i feel awful about it too because it s my job ...  sadness\n",
       "110083                              im alone i feel awful  sadness\n",
       "140764  ive probably mentioned this before but i reall...      joy\n",
       "100071           i was feeling a little low few days back  sadness\n",
       "2837    i beleive that i am much more sensitive to oth...     love"
      ]
     },
     "execution_count": 5,
     "metadata": {},
     "output_type": "execute_result"
    }
   ],
   "source": [
    "df.head()"
   ]
  },
  {
   "cell_type": "code",
   "execution_count": 6,
   "id": "30809e4e",
   "metadata": {},
   "outputs": [
    {
     "name": "stdout",
     "output_type": "stream",
     "text": [
      "<class 'pandas.core.frame.DataFrame'>\n",
      "Int64Index: 416809 entries, 27383 to 64703\n",
      "Data columns (total 2 columns):\n",
      " #   Column    Non-Null Count   Dtype \n",
      "---  ------    --------------   ----- \n",
      " 0   text      416809 non-null  object\n",
      " 1   emotions  416809 non-null  object\n",
      "dtypes: object(2)\n",
      "memory usage: 9.5+ MB\n"
     ]
    }
   ],
   "source": [
    "df.info()"
   ]
  },
  {
   "cell_type": "code",
   "execution_count": 7,
   "id": "9d749a5a",
   "metadata": {},
   "outputs": [
    {
     "data": {
      "text/plain": [
       "array(['sadness', 'joy', 'love', 'anger', 'fear', 'surprise'],\n",
       "      dtype=object)"
      ]
     },
     "execution_count": 7,
     "metadata": {},
     "output_type": "execute_result"
    }
   ],
   "source": [
    "df['emotions'].unique()"
   ]
  },
  {
   "cell_type": "code",
   "execution_count": 8,
   "id": "6693b7c7",
   "metadata": {},
   "outputs": [
    {
     "data": {
      "text/plain": [
       "<AxesSubplot:>"
      ]
     },
     "execution_count": 8,
     "metadata": {},
     "output_type": "execute_result"
    },
    {
     "data": {
      "image/png": "[encoded data removed]",
      "text/plain": [
       "<Figure size 432x288 with 1 Axes>"
      ]
     },
     "metadata": {
      "needs_background": "light"
     },
     "output_type": "display_data"
    }
   ],
   "source": [
    "df['emotions'].value_counts().plot(kind='bar')"
   ]
  },
  {
   "cell_type": "markdown",
   "id": "1f4cea03",
   "metadata": {},
   "source": [
    "Let's create test,train and validation datasets from the above dataset."
   ]
  },
  {
   "cell_type": "code",
   "execution_count": 9,
   "id": "87221ef4",
   "metadata": {},
   "outputs": [],
   "source": [
    "X=df['text'];y=df['emotions']"
   ]
  },
  {
   "cell_type": "code",
   "execution_count": 10,
   "id": "4e23cea1",
   "metadata": {
    "scrolled": true
   },
   "outputs": [],
   "source": [
    "tweet_tmp,tweet_ts,y_tmp,y_ts=train_test_split(X,y,test_size=0.8,random_state=42)\n",
    "tweet_tr,tweet_cv,y_tr,y_cv=train_test_split(tweet_tmp,y_tmp,test_size=0.7,random_state=42)"
   ]
  },
  {
   "cell_type": "code",
   "execution_count": 11,
   "id": "04c73917",
   "metadata": {},
   "outputs": [],
   "source": [
    "df_train=pd.concat([tweet_tr,y_tr],axis=1)\n",
    "df_val=pd.concat([tweet_cv,y_cv],axis=1)\n",
    "df_test=pd.concat([tweet_ts,y_ts],axis=1)"
   ]
  },
  {
   "cell_type": "code",
   "execution_count": null,
   "id": "b0bce9de",
   "metadata": {},
   "outputs": [],
   "source": []
  },
  {
   "cell_type": "markdown",
   "id": "177296cc",
   "metadata": {},
   "source": [
    "## Tokenization"
   ]
  },
  {
   "cell_type": "code",
   "execution_count": 12,
   "id": "838957d1",
   "metadata": {},
   "outputs": [],
   "source": [
    "def text_processor1(text):\n",
    "    text=text.lower()\n",
    "    return [word for word in text.split()]\n",
    "    "
   ]
  },
  {
   "cell_type": "code",
   "execution_count": 13,
   "id": "704fa776",
   "metadata": {},
   "outputs": [],
   "source": [
    "def analysis_1(df):\n",
    "    df['processed']=df['text'].apply(lambda x:text_processor1(x))\n",
    "    df['length']=df['processed'].apply(lambda x:len(x))\n",
    "    return(df)"
   ]
  },
  {
   "cell_type": "code",
   "execution_count": 14,
   "id": "1519c29a",
   "metadata": {},
   "outputs": [
    {
     "data": {
      "text/html": [
       "<div>\n",
       "<style scoped>\n",
       "    .dataframe tbody tr th:only-of-type {\n",
       "        vertical-align: middle;\n",
       "    }\n",
       "\n",
       "    .dataframe tbody tr th {\n",
       "        vertical-align: top;\n",
       "    }\n",
       "\n",
       "    .dataframe thead th {\n",
       "        text-align: right;\n",
       "    }\n",
       "</style>\n",
       "<table border=\"1\" class=\"dataframe\">\n",
       "  <thead>\n",
       "    <tr style=\"text-align: right;\">\n",
       "      <th></th>\n",
       "      <th>text</th>\n",
       "      <th>emotions</th>\n",
       "      <th>processed</th>\n",
       "      <th>length</th>\n",
       "    </tr>\n",
       "  </thead>\n",
       "  <tbody>\n",
       "    <tr>\n",
       "      <th>51093</th>\n",
       "      <td>i feel like the only defense for it is ignoran...</td>\n",
       "      <td>joy</td>\n",
       "      <td>[i, feel, like, the, only, defense, for, it, i...</td>\n",
       "      <td>22</td>\n",
       "    </tr>\n",
       "    <tr>\n",
       "      <th>30929</th>\n",
       "      <td>i mean im not feeling so scared about it but m...</td>\n",
       "      <td>fear</td>\n",
       "      <td>[i, mean, im, not, feeling, so, scared, about,...</td>\n",
       "      <td>12</td>\n",
       "    </tr>\n",
       "    <tr>\n",
       "      <th>119805</th>\n",
       "      <td>ive been in this state of just doing what i ha...</td>\n",
       "      <td>sadness</td>\n",
       "      <td>[ive, been, in, this, state, of, just, doing, ...</td>\n",
       "      <td>26</td>\n",
       "    </tr>\n",
       "    <tr>\n",
       "      <th>92861</th>\n",
       "      <td>i stubbornly refuse to give up even though it ...</td>\n",
       "      <td>sadness</td>\n",
       "      <td>[i, stubbornly, refuse, to, give, up, even, th...</td>\n",
       "      <td>11</td>\n",
       "    </tr>\n",
       "    <tr>\n",
       "      <th>6804</th>\n",
       "      <td>i enjoy my job of the time and feel blessed to...</td>\n",
       "      <td>love</td>\n",
       "      <td>[i, enjoy, my, job, of, the, time, and, feel, ...</td>\n",
       "      <td>33</td>\n",
       "    </tr>\n",
       "    <tr>\n",
       "      <th>...</th>\n",
       "      <td>...</td>\n",
       "      <td>...</td>\n",
       "      <td>...</td>\n",
       "      <td>...</td>\n",
       "    </tr>\n",
       "    <tr>\n",
       "      <th>26155</th>\n",
       "      <td>i feel since all the armies are distracted wit...</td>\n",
       "      <td>anger</td>\n",
       "      <td>[i, feel, since, all, the, armies, are, distra...</td>\n",
       "      <td>11</td>\n",
       "    </tr>\n",
       "    <tr>\n",
       "      <th>82576</th>\n",
       "      <td>i moved in and scooped her up and she lay her ...</td>\n",
       "      <td>sadness</td>\n",
       "      <td>[i, moved, in, and, scooped, her, up, and, she...</td>\n",
       "      <td>26</td>\n",
       "    </tr>\n",
       "    <tr>\n",
       "      <th>18186</th>\n",
       "      <td>i feel pretty shy about photos of myself espec...</td>\n",
       "      <td>fear</td>\n",
       "      <td>[i, feel, pretty, shy, about, photos, of, myse...</td>\n",
       "      <td>11</td>\n",
       "    </tr>\n",
       "    <tr>\n",
       "      <th>42091</th>\n",
       "      <td>i won t feel quite so suspicious of the power ...</td>\n",
       "      <td>fear</td>\n",
       "      <td>[i, won, t, feel, quite, so, suspicious, of, t...</td>\n",
       "      <td>26</td>\n",
       "    </tr>\n",
       "    <tr>\n",
       "      <th>34798</th>\n",
       "      <td>i have something to say on books admittedly i ...</td>\n",
       "      <td>anger</td>\n",
       "      <td>[i, have, something, to, say, on, books, admit...</td>\n",
       "      <td>56</td>\n",
       "    </tr>\n",
       "  </tbody>\n",
       "</table>\n",
       "<p>25008 rows × 4 columns</p>\n",
       "</div>"
      ],
      "text/plain": [
       "                                                     text emotions  \\\n",
       "51093   i feel like the only defense for it is ignoran...      joy   \n",
       "30929   i mean im not feeling so scared about it but m...     fear   \n",
       "119805  ive been in this state of just doing what i ha...  sadness   \n",
       "92861   i stubbornly refuse to give up even though it ...  sadness   \n",
       "6804    i enjoy my job of the time and feel blessed to...     love   \n",
       "...                                                   ...      ...   \n",
       "26155   i feel since all the armies are distracted wit...    anger   \n",
       "82576   i moved in and scooped her up and she lay her ...  sadness   \n",
       "18186   i feel pretty shy about photos of myself espec...     fear   \n",
       "42091   i won t feel quite so suspicious of the power ...     fear   \n",
       "34798   i have something to say on books admittedly i ...    anger   \n",
       "\n",
       "                                                processed  length  \n",
       "51093   [i, feel, like, the, only, defense, for, it, i...      22  \n",
       "30929   [i, mean, im, not, feeling, so, scared, about,...      12  \n",
       "119805  [ive, been, in, this, state, of, just, doing, ...      26  \n",
       "92861   [i, stubbornly, refuse, to, give, up, even, th...      11  \n",
       "6804    [i, enjoy, my, job, of, the, time, and, feel, ...      33  \n",
       "...                                                   ...     ...  \n",
       "26155   [i, feel, since, all, the, armies, are, distra...      11  \n",
       "82576   [i, moved, in, and, scooped, her, up, and, she...      26  \n",
       "18186   [i, feel, pretty, shy, about, photos, of, myse...      11  \n",
       "42091   [i, won, t, feel, quite, so, suspicious, of, t...      26  \n",
       "34798   [i, have, something, to, say, on, books, admit...      56  \n",
       "\n",
       "[25008 rows x 4 columns]"
      ]
     },
     "execution_count": 14,
     "metadata": {},
     "output_type": "execute_result"
    }
   ],
   "source": [
    "analysis_1(df_train)"
   ]
  },
  {
   "cell_type": "code",
   "execution_count": 15,
   "id": "81d73de4",
   "metadata": {},
   "outputs": [
    {
     "data": {
      "text/html": [
       "<div>\n",
       "<style scoped>\n",
       "    .dataframe tbody tr th:only-of-type {\n",
       "        vertical-align: middle;\n",
       "    }\n",
       "\n",
       "    .dataframe tbody tr th {\n",
       "        vertical-align: top;\n",
       "    }\n",
       "\n",
       "    .dataframe thead th {\n",
       "        text-align: right;\n",
       "    }\n",
       "</style>\n",
       "<table border=\"1\" class=\"dataframe\">\n",
       "  <thead>\n",
       "    <tr style=\"text-align: right;\">\n",
       "      <th></th>\n",
       "      <th>length</th>\n",
       "    </tr>\n",
       "  </thead>\n",
       "  <tbody>\n",
       "    <tr>\n",
       "      <th>count</th>\n",
       "      <td>25008.000000</td>\n",
       "    </tr>\n",
       "    <tr>\n",
       "      <th>mean</th>\n",
       "      <td>19.179223</td>\n",
       "    </tr>\n",
       "    <tr>\n",
       "      <th>std</th>\n",
       "      <td>11.038159</td>\n",
       "    </tr>\n",
       "    <tr>\n",
       "      <th>min</th>\n",
       "      <td>1.000000</td>\n",
       "    </tr>\n",
       "    <tr>\n",
       "      <th>25%</th>\n",
       "      <td>11.000000</td>\n",
       "    </tr>\n",
       "    <tr>\n",
       "      <th>50%</th>\n",
       "      <td>17.000000</td>\n",
       "    </tr>\n",
       "    <tr>\n",
       "      <th>75%</th>\n",
       "      <td>25.000000</td>\n",
       "    </tr>\n",
       "    <tr>\n",
       "      <th>max</th>\n",
       "      <td>94.000000</td>\n",
       "    </tr>\n",
       "  </tbody>\n",
       "</table>\n",
       "</div>"
      ],
      "text/plain": [
       "             length\n",
       "count  25008.000000\n",
       "mean      19.179223\n",
       "std       11.038159\n",
       "min        1.000000\n",
       "25%       11.000000\n",
       "50%       17.000000\n",
       "75%       25.000000\n",
       "max       94.000000"
      ]
     },
     "execution_count": 15,
     "metadata": {},
     "output_type": "execute_result"
    }
   ],
   "source": [
    "df_train.describe()"
   ]
  },
  {
   "cell_type": "code",
   "execution_count": 16,
   "id": "13a2cde6",
   "metadata": {
    "scrolled": false
   },
   "outputs": [
    {
     "data": {
      "text/plain": [
       "<AxesSubplot:xlabel='length', ylabel='Count'>"
      ]
     },
     "execution_count": 16,
     "metadata": {},
     "output_type": "execute_result"
    },
    {
     "data": {
      "image/png": "[encoded data removed]",
      "text/plain": [
       "<Figure size 432x288 with 1 Axes>"
      ]
     },
     "metadata": {
      "needs_background": "light"
     },
     "output_type": "display_data"
    }
   ],
   "source": [
    "sns.histplot(data=df_train,x='length',bins=50)"
   ]
  },
  {
   "cell_type": "code",
   "execution_count": 17,
   "id": "df46a8fe",
   "metadata": {},
   "outputs": [],
   "source": [
    "te=df_train[df_train['length']==df_train['length'].max()]['text'].iloc[0]"
   ]
  },
  {
   "cell_type": "code",
   "execution_count": 18,
   "id": "d22a593b",
   "metadata": {},
   "outputs": [
    {
     "data": {
      "text/plain": [
       "'summer'"
      ]
     },
     "execution_count": 18,
     "metadata": {},
     "output_type": "execute_result"
    }
   ],
   "source": [
    "df_train[df_train['length']==df_train['length'].min()]['text'].iloc[0]"
   ]
  },
  {
   "cell_type": "code",
   "execution_count": 19,
   "id": "334f2ab8",
   "metadata": {},
   "outputs": [
    {
     "name": "stderr",
     "output_type": "stream",
     "text": [
      "/home/chaitanya/anaconda3/lib/python3.7/site-packages/tensorflow/python/framework/dtypes.py:516: FutureWarning: Passing (type, 1) or '1type' as a synonym of type is deprecated; in a future version of numpy, it will be understood as (type, (1,)) / '(1,)type'.\n",
      "  _np_qint8 = np.dtype([(\"qint8\", np.int8, 1)])\n",
      "/home/chaitanya/anaconda3/lib/python3.7/site-packages/tensorflow/python/framework/dtypes.py:517: FutureWarning: Passing (type, 1) or '1type' as a synonym of type is deprecated; in a future version of numpy, it will be understood as (type, (1,)) / '(1,)type'.\n",
      "  _np_quint8 = np.dtype([(\"quint8\", np.uint8, 1)])\n",
      "/home/chaitanya/anaconda3/lib/python3.7/site-packages/tensorflow/python/framework/dtypes.py:518: FutureWarning: Passing (type, 1) or '1type' as a synonym of type is deprecated; in a future version of numpy, it will be understood as (type, (1,)) / '(1,)type'.\n",
      "  _np_qint16 = np.dtype([(\"qint16\", np.int16, 1)])\n",
      "/home/chaitanya/anaconda3/lib/python3.7/site-packages/tensorflow/python/framework/dtypes.py:519: FutureWarning: Passing (type, 1) or '1type' as a synonym of type is deprecated; in a future version of numpy, it will be understood as (type, (1,)) / '(1,)type'.\n",
      "  _np_quint16 = np.dtype([(\"quint16\", np.uint16, 1)])\n",
      "/home/chaitanya/anaconda3/lib/python3.7/site-packages/tensorflow/python/framework/dtypes.py:520: FutureWarning: Passing (type, 1) or '1type' as a synonym of type is deprecated; in a future version of numpy, it will be understood as (type, (1,)) / '(1,)type'.\n",
      "  _np_qint32 = np.dtype([(\"qint32\", np.int32, 1)])\n",
      "/home/chaitanya/anaconda3/lib/python3.7/site-packages/tensorflow/python/framework/dtypes.py:525: FutureWarning: Passing (type, 1) or '1type' as a synonym of type is deprecated; in a future version of numpy, it will be understood as (type, (1,)) / '(1,)type'.\n",
      "  np_resource = np.dtype([(\"resource\", np.ubyte, 1)])\n",
      "/home/chaitanya/anaconda3/lib/python3.7/site-packages/tensorboard/compat/tensorflow_stub/dtypes.py:541: FutureWarning: Passing (type, 1) or '1type' as a synonym of type is deprecated; in a future version of numpy, it will be understood as (type, (1,)) / '(1,)type'.\n",
      "  _np_qint8 = np.dtype([(\"qint8\", np.int8, 1)])\n",
      "/home/chaitanya/anaconda3/lib/python3.7/site-packages/tensorboard/compat/tensorflow_stub/dtypes.py:542: FutureWarning: Passing (type, 1) or '1type' as a synonym of type is deprecated; in a future version of numpy, it will be understood as (type, (1,)) / '(1,)type'.\n",
      "  _np_quint8 = np.dtype([(\"quint8\", np.uint8, 1)])\n",
      "/home/chaitanya/anaconda3/lib/python3.7/site-packages/tensorboard/compat/tensorflow_stub/dtypes.py:543: FutureWarning: Passing (type, 1) or '1type' as a synonym of type is deprecated; in a future version of numpy, it will be understood as (type, (1,)) / '(1,)type'.\n",
      "  _np_qint16 = np.dtype([(\"qint16\", np.int16, 1)])\n",
      "/home/chaitanya/anaconda3/lib/python3.7/site-packages/tensorboard/compat/tensorflow_stub/dtypes.py:544: FutureWarning: Passing (type, 1) or '1type' as a synonym of type is deprecated; in a future version of numpy, it will be understood as (type, (1,)) / '(1,)type'.\n",
      "  _np_quint16 = np.dtype([(\"quint16\", np.uint16, 1)])\n",
      "/home/chaitanya/anaconda3/lib/python3.7/site-packages/tensorboard/compat/tensorflow_stub/dtypes.py:545: FutureWarning: Passing (type, 1) or '1type' as a synonym of type is deprecated; in a future version of numpy, it will be understood as (type, (1,)) / '(1,)type'.\n",
      "  _np_qint32 = np.dtype([(\"qint32\", np.int32, 1)])\n",
      "/home/chaitanya/anaconda3/lib/python3.7/site-packages/tensorboard/compat/tensorflow_stub/dtypes.py:550: FutureWarning: Passing (type, 1) or '1type' as a synonym of type is deprecated; in a future version of numpy, it will be understood as (type, (1,)) / '(1,)type'.\n",
      "  np_resource = np.dtype([(\"resource\", np.ubyte, 1)])\n"
     ]
    }
   ],
   "source": [
    "from tensorflow.keras.preprocessing.text import Tokenizer\n",
    "from tensorflow.keras.preprocessing.sequence import pad_sequences"
   ]
  },
  {
   "cell_type": "code",
   "execution_count": 20,
   "id": "740ab430",
   "metadata": {},
   "outputs": [],
   "source": [
    "tokenizer=Tokenizer(num_words=12000,oov_token='<UKN>')\n",
    "tokenizer.fit_on_texts(df_train['text'])"
   ]
  },
  {
   "cell_type": "code",
   "execution_count": 21,
   "id": "b6cbc456",
   "metadata": {},
   "outputs": [
    {
     "data": {
      "text/plain": [
       "[[797]]"
      ]
     },
     "execution_count": 21,
     "metadata": {},
     "output_type": "execute_result"
    }
   ],
   "source": [
    "tokenizer.texts_to_sequences(['summer'])"
   ]
  },
  {
   "cell_type": "code",
   "execution_count": 22,
   "id": "0596d634",
   "metadata": {},
   "outputs": [],
   "source": [
    "def get_sequence(tokenizer,text,maxlen):\n",
    "    sequence=tokenizer.texts_to_sequences([text])\n",
    "    padded=pad_sequences(sequences=sequence,maxlen=maxlen,padding='post',truncating='post')\n",
    "    return padded"
   ]
  },
  {
   "cell_type": "code",
   "execution_count": 23,
   "id": "860b2a91",
   "metadata": {},
   "outputs": [],
   "source": [
    "df_train['padded_seq']=np.squeeze(df_train['text'].apply(lambda x:get_sequence(tokenizer=tokenizer,text=x,maxlen=55)))"
   ]
  },
  {
   "cell_type": "code",
   "execution_count": 24,
   "id": "04439245",
   "metadata": {},
   "outputs": [
    {
     "data": {
      "text/plain": [
       "(1, 55)"
      ]
     },
     "execution_count": 24,
     "metadata": {},
     "output_type": "execute_result"
    }
   ],
   "source": [
    "df_train['padded_seq'].iloc[1].shape"
   ]
  },
  {
   "cell_type": "code",
   "execution_count": null,
   "id": "6cf62e4d",
   "metadata": {},
   "outputs": [],
   "source": []
  }
 ],
 "metadata": {
  "kernelspec": {
   "display_name": "Python 3",
   "language": "python",
   "name": "python3"
  },
  "language_info": {
   "codemirror_mode": {
    "name": "ipython",
    "version": 3
   },
   "file_extension": ".py",
   "mimetype": "text/x-python",
   "name": "python",
   "nbconvert_exporter": "python",
   "pygments_lexer": "ipython3",
   "version": "3.7.7"
  }
 },
 "nbformat": 4,
 "nbformat_minor": 5
}
